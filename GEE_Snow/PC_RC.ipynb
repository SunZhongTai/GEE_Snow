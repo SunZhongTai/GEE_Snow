{
 "cells": [
  {
   "cell_type": "code",
   "execution_count": 2,
   "metadata": {
    "execution": {
     "iopub.execute_input": "2021-09-27T02:19:51.665Z",
     "iopub.status.busy": "2021-09-27T02:19:51.650Z",
     "iopub.status.idle": "2021-09-27T02:19:51.700Z",
     "shell.execute_reply": "2021-09-27T02:19:51.757Z"
    }
   },
   "outputs": [
    {
     "name": "stdout",
     "output_type": "stream",
     "text": [
      "0.5\n",
      "2\n",
      "0.5\n"
     ]
    }
   ],
   "source": [
    "# https://blog.csdn.net/hfutdog/article/details/88085878\n",
    "\n",
    "#准确率OA\n",
    "import numpy as np\n",
    "from sklearn.metrics import accuracy_score\n",
    "import numpy as np\n",
    "import pandas as pd\n",
    "from sklearn.metrics import accuracy_score\n",
    "from sklearn.metrics import precision_score\n",
    "from sklearn.metrics import recall_score\n",
    "from sklearn.metrics import f1_score\n",
    "\n",
    "y_pred = [0, 2, 1, 3]\n",
    "y_true = [0, 1, 2, 3]\n",
    "print(accuracy_score(y_true, y_pred))  # 0.5\n",
    "print(accuracy_score(y_true, y_pred, normalize=False))  # 2  如果为False，返回分类正确的样本数量\n",
    "\n",
    "# 在具有二元标签指示符的多标签分类案例中\n",
    "print(accuracy_score(np.array([[0, 1], [1, 1]]), np.ones((2, 2))))  # 0.5"
   ]
  },
  {
   "cell_type": "markdown",
   "metadata": {
    "nteract": {
     "transient": {
      "deleting": false
     }
    }
   },
   "source": [
    "md 文档\n",
    "看看 会不会是我的那两个错误弄反了 要不为什么不符合共识呢\n",
    "这是有可能的啊 吗的"
   ]
  },
  {
   "cell_type": "code",
   "execution_count": 2,
   "metadata": {
    "execution": {
     "iopub.execute_input": "2021-09-27T02:58:27.714Z",
     "iopub.status.busy": "2021-09-27T02:58:27.700Z",
     "iopub.status.idle": "2021-09-27T02:58:27.738Z",
     "shell.execute_reply": "2021-09-27T02:58:27.750Z"
    },
    "jupyter": {
     "outputs_hidden": false,
     "source_hidden": false
    },
    "nteract": {
     "transient": {
      "deleting": false
     }
    }
   },
   "outputs": [
    {
     "name": "stdout",
     "output_type": "stream",
     "text": [
      "aaa\n"
     ]
    }
   ],
   "source": [
    "print('aaa')"
   ]
  },
  {
   "cell_type": "code",
   "execution_count": 3,
   "metadata": {
    "execution": {
     "iopub.execute_input": "2021-09-27T02:19:51.732Z",
     "iopub.status.busy": "2021-09-27T02:19:51.720Z",
     "iopub.status.idle": "2021-09-27T02:19:57.694Z",
     "shell.execute_reply": "2021-09-27T02:19:58.154Z"
    }
   },
   "outputs": [
    {
     "data": {
      "text/plain": [
       "0      0\n",
       "1      1\n",
       "2      1\n",
       "3      0\n",
       "4      0\n",
       "      ..\n",
       "635    0\n",
       "636    0\n",
       "637    1\n",
       "638    0\n",
       "639    0\n",
       "Name: LSnow, Length: 640, dtype: int64"
      ]
     },
     "execution_count": 3,
     "metadata": {},
     "output_type": "execute_result"
    }
   ],
   "source": [
    "#准确率OA\n",
    "\n",
    "\n",
    "# 500的精度反而高一些 30的数据多一点 目前趋向于 一年的数据 maybe  多换点数据\n",
    "#  选择的是500m  \n",
    "# 14年的13年的精度高一些  所以点数据的利用率还是很低  \n",
    "data=pd.read_excel('E:/randompoint/tiqudian/ELE6.xlsx')  \n",
    "# E:\\randompoint\\tiqudian\n",
    "\n",
    "Lsnow=data['LSnow']  # true\n",
    "Lsnow"
   ]
  },
  {
   "cell_type": "code",
   "execution_count": 4,
   "metadata": {
    "execution": {
     "iopub.execute_input": "2021-09-27T02:19:57.723Z",
     "iopub.status.busy": "2021-09-27T02:19:57.712Z",
     "iopub.status.idle": "2021-09-27T02:19:57.749Z",
     "shell.execute_reply": "2021-09-27T02:19:58.170Z"
    }
   },
   "outputs": [
    {
     "data": {
      "text/plain": [
       "0      0\n",
       "1      1\n",
       "2      1\n",
       "3      0\n",
       "4      1\n",
       "      ..\n",
       "635    1\n",
       "636    0\n",
       "637    1\n",
       "638    0\n",
       "639    0\n",
       "Name: MSnow, Length: 640, dtype: int64"
      ]
     },
     "execution_count": 4,
     "metadata": {},
     "output_type": "execute_result"
    }
   ],
   "source": [
    "Msnow=data['MSnow'] # pre \n",
    "Msnow"
   ]
  },
  {
   "cell_type": "code",
   "execution_count": 9,
   "metadata": {
    "execution": {
     "iopub.execute_input": "2021-09-27T02:19:57.777Z",
     "iopub.status.busy": "2021-09-27T02:19:57.766Z",
     "iopub.status.idle": "2021-09-27T02:19:57.801Z",
     "shell.execute_reply": "2021-09-27T02:19:58.178Z"
    },
    "scrolled": true
   },
   "outputs": [
    {
     "ename": "NameError",
     "evalue": "name 'Msnow' is not defined",
     "output_type": "error",
     "traceback": [
      "\u001b[1;31m---------------------------------------------------------------------------\u001b[0m",
      "\u001b[1;31mNameError\u001b[0m                                 Traceback (most recent call last)",
      "\u001b[1;32m<ipython-input-9-1be9ee17664e>\u001b[0m in \u001b[0;36m<module>\u001b[1;34m\u001b[0m\n\u001b[0;32m      1\u001b[0m \u001b[1;31m# y_pred = [0, 1, 1,0,1,1,0 ,1,1,0]\u001b[0m\u001b[1;33m\u001b[0m\u001b[1;33m\u001b[0m\u001b[1;33m\u001b[0m\u001b[0m\n\u001b[0;32m      2\u001b[0m \u001b[1;31m# y_true = [0, 1, 0, 1,0,0, 1 , 1,0,1 ]\u001b[0m\u001b[1;33m\u001b[0m\u001b[1;33m\u001b[0m\u001b[1;33m\u001b[0m\u001b[0m\n\u001b[1;32m----> 3\u001b[1;33m \u001b[0my_pred\u001b[0m \u001b[1;33m=\u001b[0m \u001b[0mMsnow\u001b[0m\u001b[1;33m\u001b[0m\u001b[1;33m\u001b[0m\u001b[0m\n\u001b[0m\u001b[0;32m      4\u001b[0m \u001b[0my_true\u001b[0m \u001b[1;33m=\u001b[0m \u001b[0mLsnow\u001b[0m\u001b[1;33m\u001b[0m\u001b[1;33m\u001b[0m\u001b[0m\n\u001b[0;32m      5\u001b[0m \u001b[1;33m\u001b[0m\u001b[0m\n",
      "\u001b[1;31mNameError\u001b[0m: name 'Msnow' is not defined"
     ]
    }
   ],
   "source": [
    "# y_pred = [0, 1, 1,0,1,1,0 ,1,1,0]\n",
    "# y_true = [0, 1, 0, 1,0,0, 1 , 1,0,1 ]\n",
    "y_pred = Msnow\n",
    "y_true = Lsnow\n",
    "\n",
    "\n",
    "print('OA')\n",
    "print(accuracy_score(y_true, y_pred))  # 0.5\n",
    "print('分类正确的样本数量')\n",
    "print(accuracy_score(y_true, y_pred, normalize=False))  # 2  如果为False，返回分类正确的样本数量\n",
    "\n",
    "print('PC')\n",
    "PC=precision_score(y_true, y_pred, average=None)\n",
    "print(PC[1])  # [0.66666667 0.         0.        ]   后\n",
    "    \n",
    "# print(precision_score(y_true, y_pred, average='macro'))  # 0.2222222222222222\n",
    "# print(precision_score(y_true, y_pred, average='micro'))  # 0.3333333333333333\n",
    "# print(precision_score(y_true, y_pred, average='weighted'))  # 0.2222222222222222\n",
    "\n",
    "\n",
    "\n",
    "print('RC')\n",
    "RC=recall_score(y_true, y_pred, average=None)\n",
    "print(RC[1])  # [1. 0. 0.]    后\n",
    "\n",
    "# print(recall_score(y_true, y_pred, average='macro'))  # 0.3333333333333333\n",
    "# print(recall_score(y_true, y_pred, average='micro'))  # 0.3333333333333333\n",
    "# print(recall_score(y_true, y_pred, average='weighted'))  # 0.3333333333333333\n",
    "\n",
    "print('F1')\n",
    "F1=f1_score(y_true, y_pred, average=None)\n",
    "print(F1[1])  # [0.8 0.  0. ]\n",
    "\n",
    "# print(f1_score(y_true, y_pred, average='macro'))  # 0.26666666666666666\n",
    "# print(f1_score(y_true, y_pred, average='micro'))  # 0.3333333333333333\n",
    "# print(f1_score(y_true, y_pred, average='weighted'))  # 0.26666666666666666\n",
    "\n",
    "# CE + PC = 1; OE + RC = 1\n",
    "\n",
    "print('CE') #  commission error\n",
    "print(1-PC[1])\n",
    "\n",
    "print('OE') # omission error\n",
    "print(1-RC[1])\n"
   ]
  },
  {
   "cell_type": "markdown",
   "metadata": {},
   "source": [
    "测试下 OA 与F 的关系啊"
   ]
  },
  {
   "cell_type": "code",
   "execution_count": 100,
   "metadata": {},
   "outputs": [
    {
     "name": "stdout",
     "output_type": "stream",
     "text": [
      "OA\n",
      "0.9103405826836274\n",
      "分类正确的样本数量\n",
      "4437\n",
      "F1\n",
      "0.8380881808077066\n",
      "PC\n",
      "0.7720136518771331\n",
      "RC\n",
      "0.9165316045380876\n",
      "F1\n",
      "0.8380881808077066\n",
      "CE\n",
      "0.2279863481228669\n",
      "OE\n",
      "0.08346839546191243\n"
     ]
    }
   ],
   "source": [
    "#  1month  2 3 10 11 12  13SE 14 15 16 17 18 19  ELE1 ELE2 ELE3 ELE4 5 6\n",
    "data2=pd.read_excel('E:/randompoint/tiqudian/1month.xlsx')  \n",
    "\n",
    "Lsnow2=data2['LSnow']  # true\n",
    "Lsnow2\n",
    "\n",
    "Msnow2=data2['MSnow'] # pre \n",
    "Msnow2\n",
    "\n",
    "y_pred2 = Msnow2\n",
    "y_true2 = Lsnow2\n",
    "\n",
    "\n",
    "\n",
    "print('OA')\n",
    "print(accuracy_score(y_true2, y_pred2))  # 0.5\n",
    "print('分类正确的样本数量')\n",
    "print(accuracy_score(y_true2, y_pred2, normalize=False))  # 2  如果为False，返回分类正确的样本数量\n",
    "\n",
    "print('F1')\n",
    "F1=f1_score(y_true2, y_pred2, average=None)\n",
    "print(F1[1])  # [0.8 0.  0. ]\n",
    "\n",
    "\n",
    "print('PC')\n",
    "PC=precision_score(y_true2, y_pred2, average=None)\n",
    "print(PC[1])  # [0.66666667 0.         0.        ]   后\n",
    "    \n",
    "# print(precision_score(y_true, y_pred, average='macro'))  # 0.2222222222222222\n",
    "# print(precision_score(y_true, y_pred, average='micro'))  # 0.3333333333333333\n",
    "# print(precision_score(y_true, y_pred, average='weighted'))  # 0.2222222222222222\n",
    "\n",
    "\n",
    "\n",
    "print('RC')\n",
    "RC=recall_score(y_true2, y_pred2, average=None)\n",
    "print(RC[1])  # [1. 0. 0.]    后\n",
    "\n",
    "# print(recall_score(y_true, y_pred, average='macro'))  # 0.3333333333333333\n",
    "# print(recall_score(y_true, y_pred, average='micro'))  # 0.3333333333333333\n",
    "# print(recall_score(y_true, y_pred, average='weighted'))  # 0.3333333333333333\n",
    "\n",
    "print('F1')\n",
    "F1=f1_score(y_true2, y_pred2, average=None)\n",
    "print(F1[1])  # [0.8 0.  0. ]\n",
    "\n",
    "# print(f1_score(y_true, y_pred, average='macro'))  # 0.26666666666666666\n",
    "# print(f1_score(y_true, y_pred, average='micro'))  # 0.3333333333333333\n",
    "# print(f1_score(y_true, y_pred, average='weighted'))  # 0.26666666666666666\n",
    "\n",
    "# CE + PC = 1; OE + RC = 1\n",
    "\n",
    "print('CE') #  commission error\n",
    "print(1-PC[1])\n",
    "\n",
    "print('OE') # omission error\n",
    "print(1-RC[1])\n"
   ]
  },
  {
   "cell_type": "code",
   "execution_count": null,
   "metadata": {},
   "outputs": [],
   "source": []
  },
  {
   "cell_type": "code",
   "execution_count": null,
   "metadata": {},
   "outputs": [],
   "source": []
  },
  {
   "cell_type": "code",
   "execution_count": null,
   "metadata": {},
   "outputs": [],
   "source": []
  },
  {
   "cell_type": "code",
   "execution_count": null,
   "metadata": {},
   "outputs": [],
   "source": []
  },
  {
   "cell_type": "code",
   "execution_count": 6,
   "metadata": {
    "execution": {
     "iopub.execute_input": "2021-09-27T02:19:57.830Z",
     "iopub.status.busy": "2021-09-27T02:19:57.819Z",
     "iopub.status.idle": "2021-09-27T02:19:57.851Z",
     "shell.execute_reply": "2021-09-27T02:19:58.183Z"
    }
   },
   "outputs": [
    {
     "data": {
      "text/plain": [
       "array([[417,  45],\n",
       "       [ 44, 134]], dtype=int64)"
      ]
     },
     "execution_count": 6,
     "metadata": {},
     "output_type": "execute_result"
    }
   ],
   "source": [
    "#输出混淆矩阵 \n",
    "from sklearn.metrics import confusion_matrix\n",
    "\n",
    "confusion_matrix(y_true, y_pred)"
   ]
  },
  {
   "cell_type": "code",
   "execution_count": 7,
   "metadata": {
    "execution": {
     "iopub.execute_input": "2021-09-27T02:19:57.899Z",
     "iopub.status.busy": "2021-09-27T02:19:57.878Z",
     "iopub.status.idle": "2021-09-27T02:19:57.956Z",
     "shell.execute_reply": "2021-09-27T02:19:58.188Z"
    }
   },
   "outputs": [],
   "source": [
    "tn, fp, fn, tp = confusion_matrix(y_true, y_pred).ravel()"
   ]
  },
  {
   "cell_type": "code",
   "execution_count": 8,
   "metadata": {
    "execution": {
     "iopub.execute_input": "2021-09-27T02:19:57.990Z",
     "iopub.status.busy": "2021-09-27T02:19:57.975Z",
     "iopub.status.idle": "2021-09-27T02:19:58.017Z",
     "shell.execute_reply": "2021-09-27T02:19:58.195Z"
    }
   },
   "outputs": [
    {
     "name": "stdout",
     "output_type": "stream",
     "text": [
      "417 45 44 134\n"
     ]
    }
   ],
   "source": [
    "print(tn, fp, fn, tp )"
   ]
  },
  {
   "cell_type": "code",
   "execution_count": 9,
   "metadata": {
    "execution": {
     "iopub.execute_input": "2021-09-27T02:19:58.046Z",
     "iopub.status.busy": "2021-09-27T02:19:58.036Z",
     "iopub.status.idle": "2021-09-27T02:19:58.078Z",
     "shell.execute_reply": "2021-09-27T02:19:58.200Z"
    }
   },
   "outputs": [
    {
     "data": {
      "text/html": [
       "<div>\n",
       "<style scoped>\n",
       "    .dataframe tbody tr th:only-of-type {\n",
       "        vertical-align: middle;\n",
       "    }\n",
       "\n",
       "    .dataframe tbody tr th {\n",
       "        vertical-align: top;\n",
       "    }\n",
       "\n",
       "    .dataframe thead th {\n",
       "        text-align: right;\n",
       "    }\n",
       "</style>\n",
       "<table border=\"1\" class=\"dataframe\">\n",
       "  <thead>\n",
       "    <tr style=\"text-align: right;\">\n",
       "      <th>MSnow</th>\n",
       "      <th>0</th>\n",
       "      <th>1</th>\n",
       "    </tr>\n",
       "    <tr>\n",
       "      <th>LSnow</th>\n",
       "      <th></th>\n",
       "      <th></th>\n",
       "    </tr>\n",
       "  </thead>\n",
       "  <tbody>\n",
       "    <tr>\n",
       "      <th>0</th>\n",
       "      <td>417</td>\n",
       "      <td>45</td>\n",
       "    </tr>\n",
       "    <tr>\n",
       "      <th>1</th>\n",
       "      <td>44</td>\n",
       "      <td>134</td>\n",
       "    </tr>\n",
       "  </tbody>\n",
       "</table>\n",
       "</div>"
      ],
      "text/plain": [
       "MSnow    0    1\n",
       "LSnow          \n",
       "0      417   45\n",
       "1       44  134"
      ]
     },
     "execution_count": 9,
     "metadata": {},
     "output_type": "execute_result"
    }
   ],
   "source": [
    "pd.crosstab(y_true, y_pred)"
   ]
  },
  {
   "cell_type": "code",
   "execution_count": 10,
   "metadata": {
    "execution": {
     "iopub.execute_input": "2021-09-27T02:19:58.106Z",
     "iopub.status.busy": "2021-09-27T02:19:58.095Z",
     "iopub.status.idle": "2021-09-27T02:19:58.248Z",
     "shell.execute_reply": "2021-09-27T02:19:58.204Z"
    }
   },
   "outputs": [
    {
     "data": {
      "text/html": [
       "<div>\n",
       "<style scoped>\n",
       "    .dataframe tbody tr th:only-of-type {\n",
       "        vertical-align: middle;\n",
       "    }\n",
       "\n",
       "    .dataframe tbody tr th {\n",
       "        vertical-align: top;\n",
       "    }\n",
       "\n",
       "    .dataframe thead th {\n",
       "        text-align: right;\n",
       "    }\n",
       "</style>\n",
       "<table border=\"1\" class=\"dataframe\">\n",
       "  <thead>\n",
       "    <tr style=\"text-align: right;\">\n",
       "      <th>MSnow</th>\n",
       "      <th>0</th>\n",
       "      <th>1</th>\n",
       "    </tr>\n",
       "    <tr>\n",
       "      <th>LSnow</th>\n",
       "      <th></th>\n",
       "      <th></th>\n",
       "    </tr>\n",
       "  </thead>\n",
       "  <tbody>\n",
       "    <tr>\n",
       "      <th>0</th>\n",
       "      <td>1668</td>\n",
       "      <td>180</td>\n",
       "    </tr>\n",
       "    <tr>\n",
       "      <th>1</th>\n",
       "      <td>176</td>\n",
       "      <td>536</td>\n",
       "    </tr>\n",
       "  </tbody>\n",
       "</table>\n",
       "</div>"
      ],
      "text/plain": [
       "MSnow     0    1\n",
       "LSnow           \n",
       "0      1668  180\n",
       "1       176  536"
      ]
     },
     "execution_count": 10,
     "metadata": {},
     "output_type": "execute_result"
    }
   ],
   "source": [
    "4*pd.crosstab(y_true, y_pred)"
   ]
  },
  {
   "cell_type": "markdown",
   "metadata": {},
   "source": [
    "月平均和总的就是不一样啊 \n",
    "这个好像没啥影响"
   ]
  },
  {
   "cell_type": "code",
   "execution_count": null,
   "metadata": {},
   "outputs": [],
   "source": []
  },
  {
   "cell_type": "code",
   "execution_count": null,
   "metadata": {},
   "outputs": [],
   "source": []
  },
  {
   "cell_type": "code",
   "execution_count": null,
   "metadata": {},
   "outputs": [],
   "source": []
  },
  {
   "cell_type": "code",
   "execution_count": null,
   "metadata": {},
   "outputs": [],
   "source": []
  },
  {
   "cell_type": "markdown",
   "metadata": {},
   "source": [
    "然后对阈值进行测试"
   ]
  },
  {
   "cell_type": "code",
   "execution_count": 19,
   "metadata": {},
   "outputs": [
    {
     "data": {
      "text/html": [
       "<div>\n",
       "<style scoped>\n",
       "    .dataframe tbody tr th:only-of-type {\n",
       "        vertical-align: middle;\n",
       "    }\n",
       "\n",
       "    .dataframe tbody tr th {\n",
       "        vertical-align: top;\n",
       "    }\n",
       "\n",
       "    .dataframe thead th {\n",
       "        text-align: right;\n",
       "    }\n",
       "</style>\n",
       "<table border=\"1\" class=\"dataframe\">\n",
       "  <thead>\n",
       "    <tr style=\"text-align: right;\">\n",
       "      <th></th>\n",
       "      <th>system:index</th>\n",
       "      <th>LSnow</th>\n",
       "      <th>MSnow</th>\n",
       "      <th>NDSI</th>\n",
       "      <th>NDSI_Snow_Cover</th>\n",
       "      <th>date</th>\n",
       "      <th>.geo</th>\n",
       "    </tr>\n",
       "  </thead>\n",
       "  <tbody>\n",
       "    <tr>\n",
       "      <th>0</th>\n",
       "      <td>1_1_1_1_1_1_1_1_1_1_1_1_1_1_1_1_1_1_1_1_1_1_2_0_0</td>\n",
       "      <td>0</td>\n",
       "      <td>0</td>\n",
       "      <td>-0.342190</td>\n",
       "      <td>0</td>\n",
       "      <td>2013-10-08T00:00:00</td>\n",
       "      <td>{\"geodesic\":false,\"type\":\"Point\",\"coordinates\"...</td>\n",
       "    </tr>\n",
       "    <tr>\n",
       "      <th>1</th>\n",
       "      <td>1_1_1_1_1_1_1_1_1_1_1_1_1_1_1_1_1_1_1_1_1_1_2_0_1</td>\n",
       "      <td>0</td>\n",
       "      <td>0</td>\n",
       "      <td>-0.388403</td>\n",
       "      <td>0</td>\n",
       "      <td>2013-10-08T00:00:00</td>\n",
       "      <td>{\"geodesic\":false,\"type\":\"Point\",\"coordinates\"...</td>\n",
       "    </tr>\n",
       "    <tr>\n",
       "      <th>2</th>\n",
       "      <td>1_1_1_1_1_1_1_1_1_1_1_1_1_1_1_1_1_1_1_1_1_1_2_0_2</td>\n",
       "      <td>0</td>\n",
       "      <td>0</td>\n",
       "      <td>-0.407051</td>\n",
       "      <td>0</td>\n",
       "      <td>2013-10-08T00:00:00</td>\n",
       "      <td>{\"geodesic\":false,\"type\":\"Point\",\"coordinates\"...</td>\n",
       "    </tr>\n",
       "    <tr>\n",
       "      <th>3</th>\n",
       "      <td>1_1_1_1_1_1_1_1_1_1_1_1_1_1_1_1_1_1_1_1_1_1_2_0_3</td>\n",
       "      <td>0</td>\n",
       "      <td>0</td>\n",
       "      <td>-0.049913</td>\n",
       "      <td>0</td>\n",
       "      <td>2013-10-08T00:00:00</td>\n",
       "      <td>{\"geodesic\":false,\"type\":\"Point\",\"coordinates\"...</td>\n",
       "    </tr>\n",
       "    <tr>\n",
       "      <th>4</th>\n",
       "      <td>1_1_1_1_1_1_1_1_1_1_1_1_1_1_1_1_1_1_1_1_1_1_2_0_4</td>\n",
       "      <td>0</td>\n",
       "      <td>0</td>\n",
       "      <td>-0.326898</td>\n",
       "      <td>0</td>\n",
       "      <td>2013-10-08T00:00:00</td>\n",
       "      <td>{\"geodesic\":false,\"type\":\"Point\",\"coordinates\"...</td>\n",
       "    </tr>\n",
       "    <tr>\n",
       "      <th>...</th>\n",
       "      <td>...</td>\n",
       "      <td>...</td>\n",
       "      <td>...</td>\n",
       "      <td>...</td>\n",
       "      <td>...</td>\n",
       "      <td>...</td>\n",
       "      <td>...</td>\n",
       "    </tr>\n",
       "    <tr>\n",
       "      <th>33042</th>\n",
       "      <td>2_0_224</td>\n",
       "      <td>1</td>\n",
       "      <td>1</td>\n",
       "      <td>0.778854</td>\n",
       "      <td>55</td>\n",
       "      <td>2020-03-29T00:00:00</td>\n",
       "      <td>{\"geodesic\":false,\"type\":\"Point\",\"coordinates\"...</td>\n",
       "    </tr>\n",
       "    <tr>\n",
       "      <th>33043</th>\n",
       "      <td>2_0_225</td>\n",
       "      <td>1</td>\n",
       "      <td>1</td>\n",
       "      <td>0.614260</td>\n",
       "      <td>77</td>\n",
       "      <td>2020-03-29T00:00:00</td>\n",
       "      <td>{\"geodesic\":false,\"type\":\"Point\",\"coordinates\"...</td>\n",
       "    </tr>\n",
       "    <tr>\n",
       "      <th>33044</th>\n",
       "      <td>2_0_226</td>\n",
       "      <td>1</td>\n",
       "      <td>1</td>\n",
       "      <td>0.626316</td>\n",
       "      <td>72</td>\n",
       "      <td>2020-03-29T00:00:00</td>\n",
       "      <td>{\"geodesic\":false,\"type\":\"Point\",\"coordinates\"...</td>\n",
       "    </tr>\n",
       "    <tr>\n",
       "      <th>33045</th>\n",
       "      <td>2_0_227</td>\n",
       "      <td>1</td>\n",
       "      <td>1</td>\n",
       "      <td>0.762023</td>\n",
       "      <td>68</td>\n",
       "      <td>2020-03-29T00:00:00</td>\n",
       "      <td>{\"geodesic\":false,\"type\":\"Point\",\"coordinates\"...</td>\n",
       "    </tr>\n",
       "    <tr>\n",
       "      <th>33046</th>\n",
       "      <td>2_0_228</td>\n",
       "      <td>0</td>\n",
       "      <td>1</td>\n",
       "      <td>0.110667</td>\n",
       "      <td>62</td>\n",
       "      <td>2020-03-29T00:00:00</td>\n",
       "      <td>{\"geodesic\":false,\"type\":\"Point\",\"coordinates\"...</td>\n",
       "    </tr>\n",
       "  </tbody>\n",
       "</table>\n",
       "<p>33047 rows × 7 columns</p>\n",
       "</div>"
      ],
      "text/plain": [
       "                                            system:index  LSnow  MSnow  \\\n",
       "0      1_1_1_1_1_1_1_1_1_1_1_1_1_1_1_1_1_1_1_1_1_1_2_0_0      0      0   \n",
       "1      1_1_1_1_1_1_1_1_1_1_1_1_1_1_1_1_1_1_1_1_1_1_2_0_1      0      0   \n",
       "2      1_1_1_1_1_1_1_1_1_1_1_1_1_1_1_1_1_1_1_1_1_1_2_0_2      0      0   \n",
       "3      1_1_1_1_1_1_1_1_1_1_1_1_1_1_1_1_1_1_1_1_1_1_2_0_3      0      0   \n",
       "4      1_1_1_1_1_1_1_1_1_1_1_1_1_1_1_1_1_1_1_1_1_1_2_0_4      0      0   \n",
       "...                                                  ...    ...    ...   \n",
       "33042                                            2_0_224      1      1   \n",
       "33043                                            2_0_225      1      1   \n",
       "33044                                            2_0_226      1      1   \n",
       "33045                                            2_0_227      1      1   \n",
       "33046                                            2_0_228      0      1   \n",
       "\n",
       "           NDSI  NDSI_Snow_Cover                 date  \\\n",
       "0     -0.342190                0  2013-10-08T00:00:00   \n",
       "1     -0.388403                0  2013-10-08T00:00:00   \n",
       "2     -0.407051                0  2013-10-08T00:00:00   \n",
       "3     -0.049913                0  2013-10-08T00:00:00   \n",
       "4     -0.326898                0  2013-10-08T00:00:00   \n",
       "...         ...              ...                  ...   \n",
       "33042  0.778854               55  2020-03-29T00:00:00   \n",
       "33043  0.614260               77  2020-03-29T00:00:00   \n",
       "33044  0.626316               72  2020-03-29T00:00:00   \n",
       "33045  0.762023               68  2020-03-29T00:00:00   \n",
       "33046  0.110667               62  2020-03-29T00:00:00   \n",
       "\n",
       "                                                    .geo  \n",
       "0      {\"geodesic\":false,\"type\":\"Point\",\"coordinates\"...  \n",
       "1      {\"geodesic\":false,\"type\":\"Point\",\"coordinates\"...  \n",
       "2      {\"geodesic\":false,\"type\":\"Point\",\"coordinates\"...  \n",
       "3      {\"geodesic\":false,\"type\":\"Point\",\"coordinates\"...  \n",
       "4      {\"geodesic\":false,\"type\":\"Point\",\"coordinates\"...  \n",
       "...                                                  ...  \n",
       "33042  {\"geodesic\":false,\"type\":\"Point\",\"coordinates\"...  \n",
       "33043  {\"geodesic\":false,\"type\":\"Point\",\"coordinates\"...  \n",
       "33044  {\"geodesic\":false,\"type\":\"Point\",\"coordinates\"...  \n",
       "33045  {\"geodesic\":false,\"type\":\"Point\",\"coordinates\"...  \n",
       "33046  {\"geodesic\":false,\"type\":\"Point\",\"coordinates\"...  \n",
       "\n",
       "[33047 rows x 7 columns]"
      ]
     },
     "execution_count": 19,
     "metadata": {},
     "output_type": "execute_result"
    }
   ],
   "source": [
    "dd=pd.read_excel('E:/randompoint/tiqudian/yuzhi_test/allSE.xlsx')  \n",
    "dd"
   ]
  },
  {
   "cell_type": "code",
   "execution_count": 20,
   "metadata": {},
   "outputs": [
    {
     "name": "stderr",
     "output_type": "stream",
     "text": [
      "D:\\Anaconda\\lib\\site-packages\\ipykernel_launcher.py:3: SettingWithCopyWarning: \n",
      "A value is trying to be set on a copy of a slice from a DataFrame\n",
      "\n",
      "See the caveats in the documentation: https://pandas.pydata.org/pandas-docs/stable/user_guide/indexing.html#returning-a-view-versus-a-copy\n",
      "  This is separate from the ipykernel package so we can avoid doing imports until\n",
      "D:\\Anaconda\\lib\\site-packages\\ipykernel_launcher.py:4: SettingWithCopyWarning: \n",
      "A value is trying to be set on a copy of a slice from a DataFrame\n",
      "\n",
      "See the caveats in the documentation: https://pandas.pydata.org/pandas-docs/stable/user_guide/indexing.html#returning-a-view-versus-a-copy\n",
      "  after removing the cwd from sys.path.\n"
     ]
    },
    {
     "data": {
      "text/html": [
       "<div>\n",
       "<style scoped>\n",
       "    .dataframe tbody tr th:only-of-type {\n",
       "        vertical-align: middle;\n",
       "    }\n",
       "\n",
       "    .dataframe tbody tr th {\n",
       "        vertical-align: top;\n",
       "    }\n",
       "\n",
       "    .dataframe thead th {\n",
       "        text-align: right;\n",
       "    }\n",
       "</style>\n",
       "<table border=\"1\" class=\"dataframe\">\n",
       "  <thead>\n",
       "    <tr style=\"text-align: right;\">\n",
       "      <th></th>\n",
       "      <th>system:index</th>\n",
       "      <th>LSnow</th>\n",
       "      <th>MSnow</th>\n",
       "      <th>NDSI</th>\n",
       "      <th>NDSI_Snow_Cover</th>\n",
       "      <th>date</th>\n",
       "      <th>.geo</th>\n",
       "      <th>L4</th>\n",
       "      <th>M4</th>\n",
       "    </tr>\n",
       "  </thead>\n",
       "  <tbody>\n",
       "    <tr>\n",
       "      <th>0</th>\n",
       "      <td>1_1_1_1_1_1_1_1_1_1_1_1_1_1_1_1_1_1_1_1_1_1_2_0_0</td>\n",
       "      <td>0</td>\n",
       "      <td>0</td>\n",
       "      <td>-0.342190</td>\n",
       "      <td>0</td>\n",
       "      <td>2013-10-08T00:00:00</td>\n",
       "      <td>{\"geodesic\":false,\"type\":\"Point\",\"coordinates\"...</td>\n",
       "      <td>0</td>\n",
       "      <td>0</td>\n",
       "    </tr>\n",
       "    <tr>\n",
       "      <th>1</th>\n",
       "      <td>1_1_1_1_1_1_1_1_1_1_1_1_1_1_1_1_1_1_1_1_1_1_2_0_1</td>\n",
       "      <td>0</td>\n",
       "      <td>0</td>\n",
       "      <td>-0.388403</td>\n",
       "      <td>0</td>\n",
       "      <td>2013-10-08T00:00:00</td>\n",
       "      <td>{\"geodesic\":false,\"type\":\"Point\",\"coordinates\"...</td>\n",
       "      <td>0</td>\n",
       "      <td>0</td>\n",
       "    </tr>\n",
       "    <tr>\n",
       "      <th>2</th>\n",
       "      <td>1_1_1_1_1_1_1_1_1_1_1_1_1_1_1_1_1_1_1_1_1_1_2_0_2</td>\n",
       "      <td>0</td>\n",
       "      <td>0</td>\n",
       "      <td>-0.407051</td>\n",
       "      <td>0</td>\n",
       "      <td>2013-10-08T00:00:00</td>\n",
       "      <td>{\"geodesic\":false,\"type\":\"Point\",\"coordinates\"...</td>\n",
       "      <td>0</td>\n",
       "      <td>0</td>\n",
       "    </tr>\n",
       "    <tr>\n",
       "      <th>3</th>\n",
       "      <td>1_1_1_1_1_1_1_1_1_1_1_1_1_1_1_1_1_1_1_1_1_1_2_0_3</td>\n",
       "      <td>0</td>\n",
       "      <td>0</td>\n",
       "      <td>-0.049913</td>\n",
       "      <td>0</td>\n",
       "      <td>2013-10-08T00:00:00</td>\n",
       "      <td>{\"geodesic\":false,\"type\":\"Point\",\"coordinates\"...</td>\n",
       "      <td>0</td>\n",
       "      <td>0</td>\n",
       "    </tr>\n",
       "    <tr>\n",
       "      <th>4</th>\n",
       "      <td>1_1_1_1_1_1_1_1_1_1_1_1_1_1_1_1_1_1_1_1_1_1_2_0_4</td>\n",
       "      <td>0</td>\n",
       "      <td>0</td>\n",
       "      <td>-0.326898</td>\n",
       "      <td>0</td>\n",
       "      <td>2013-10-08T00:00:00</td>\n",
       "      <td>{\"geodesic\":false,\"type\":\"Point\",\"coordinates\"...</td>\n",
       "      <td>0</td>\n",
       "      <td>0</td>\n",
       "    </tr>\n",
       "    <tr>\n",
       "      <th>...</th>\n",
       "      <td>...</td>\n",
       "      <td>...</td>\n",
       "      <td>...</td>\n",
       "      <td>...</td>\n",
       "      <td>...</td>\n",
       "      <td>...</td>\n",
       "      <td>...</td>\n",
       "      <td>...</td>\n",
       "      <td>...</td>\n",
       "    </tr>\n",
       "    <tr>\n",
       "      <th>33042</th>\n",
       "      <td>2_0_224</td>\n",
       "      <td>1</td>\n",
       "      <td>1</td>\n",
       "      <td>0.778854</td>\n",
       "      <td>55</td>\n",
       "      <td>2020-03-29T00:00:00</td>\n",
       "      <td>{\"geodesic\":false,\"type\":\"Point\",\"coordinates\"...</td>\n",
       "      <td>1</td>\n",
       "      <td>1</td>\n",
       "    </tr>\n",
       "    <tr>\n",
       "      <th>33043</th>\n",
       "      <td>2_0_225</td>\n",
       "      <td>1</td>\n",
       "      <td>1</td>\n",
       "      <td>0.614260</td>\n",
       "      <td>77</td>\n",
       "      <td>2020-03-29T00:00:00</td>\n",
       "      <td>{\"geodesic\":false,\"type\":\"Point\",\"coordinates\"...</td>\n",
       "      <td>1</td>\n",
       "      <td>1</td>\n",
       "    </tr>\n",
       "    <tr>\n",
       "      <th>33044</th>\n",
       "      <td>2_0_226</td>\n",
       "      <td>1</td>\n",
       "      <td>1</td>\n",
       "      <td>0.626316</td>\n",
       "      <td>72</td>\n",
       "      <td>2020-03-29T00:00:00</td>\n",
       "      <td>{\"geodesic\":false,\"type\":\"Point\",\"coordinates\"...</td>\n",
       "      <td>1</td>\n",
       "      <td>1</td>\n",
       "    </tr>\n",
       "    <tr>\n",
       "      <th>33045</th>\n",
       "      <td>2_0_227</td>\n",
       "      <td>1</td>\n",
       "      <td>1</td>\n",
       "      <td>0.762023</td>\n",
       "      <td>68</td>\n",
       "      <td>2020-03-29T00:00:00</td>\n",
       "      <td>{\"geodesic\":false,\"type\":\"Point\",\"coordinates\"...</td>\n",
       "      <td>1</td>\n",
       "      <td>1</td>\n",
       "    </tr>\n",
       "    <tr>\n",
       "      <th>33046</th>\n",
       "      <td>2_0_228</td>\n",
       "      <td>0</td>\n",
       "      <td>1</td>\n",
       "      <td>0.110667</td>\n",
       "      <td>62</td>\n",
       "      <td>2020-03-29T00:00:00</td>\n",
       "      <td>{\"geodesic\":false,\"type\":\"Point\",\"coordinates\"...</td>\n",
       "      <td>0</td>\n",
       "      <td>1</td>\n",
       "    </tr>\n",
       "  </tbody>\n",
       "</table>\n",
       "<p>33047 rows × 9 columns</p>\n",
       "</div>"
      ],
      "text/plain": [
       "                                            system:index  LSnow  MSnow  \\\n",
       "0      1_1_1_1_1_1_1_1_1_1_1_1_1_1_1_1_1_1_1_1_1_1_2_0_0      0      0   \n",
       "1      1_1_1_1_1_1_1_1_1_1_1_1_1_1_1_1_1_1_1_1_1_1_2_0_1      0      0   \n",
       "2      1_1_1_1_1_1_1_1_1_1_1_1_1_1_1_1_1_1_1_1_1_1_2_0_2      0      0   \n",
       "3      1_1_1_1_1_1_1_1_1_1_1_1_1_1_1_1_1_1_1_1_1_1_2_0_3      0      0   \n",
       "4      1_1_1_1_1_1_1_1_1_1_1_1_1_1_1_1_1_1_1_1_1_1_2_0_4      0      0   \n",
       "...                                                  ...    ...    ...   \n",
       "33042                                            2_0_224      1      1   \n",
       "33043                                            2_0_225      1      1   \n",
       "33044                                            2_0_226      1      1   \n",
       "33045                                            2_0_227      1      1   \n",
       "33046                                            2_0_228      0      1   \n",
       "\n",
       "           NDSI  NDSI_Snow_Cover                 date  \\\n",
       "0     -0.342190                0  2013-10-08T00:00:00   \n",
       "1     -0.388403                0  2013-10-08T00:00:00   \n",
       "2     -0.407051                0  2013-10-08T00:00:00   \n",
       "3     -0.049913                0  2013-10-08T00:00:00   \n",
       "4     -0.326898                0  2013-10-08T00:00:00   \n",
       "...         ...              ...                  ...   \n",
       "33042  0.778854               55  2020-03-29T00:00:00   \n",
       "33043  0.614260               77  2020-03-29T00:00:00   \n",
       "33044  0.626316               72  2020-03-29T00:00:00   \n",
       "33045  0.762023               68  2020-03-29T00:00:00   \n",
       "33046  0.110667               62  2020-03-29T00:00:00   \n",
       "\n",
       "                                                    .geo  L4  M4  \n",
       "0      {\"geodesic\":false,\"type\":\"Point\",\"coordinates\"...   0   0  \n",
       "1      {\"geodesic\":false,\"type\":\"Point\",\"coordinates\"...   0   0  \n",
       "2      {\"geodesic\":false,\"type\":\"Point\",\"coordinates\"...   0   0  \n",
       "3      {\"geodesic\":false,\"type\":\"Point\",\"coordinates\"...   0   0  \n",
       "4      {\"geodesic\":false,\"type\":\"Point\",\"coordinates\"...   0   0  \n",
       "...                                                  ...  ..  ..  \n",
       "33042  {\"geodesic\":false,\"type\":\"Point\",\"coordinates\"...   1   1  \n",
       "33043  {\"geodesic\":false,\"type\":\"Point\",\"coordinates\"...   1   1  \n",
       "33044  {\"geodesic\":false,\"type\":\"Point\",\"coordinates\"...   1   1  \n",
       "33045  {\"geodesic\":false,\"type\":\"Point\",\"coordinates\"...   1   1  \n",
       "33046  {\"geodesic\":false,\"type\":\"Point\",\"coordinates\"...   0   1  \n",
       "\n",
       "[33047 rows x 9 columns]"
      ]
     },
     "execution_count": 20,
     "metadata": {},
     "output_type": "execute_result"
    }
   ],
   "source": [
    "dd['L4']=0\n",
    "dd['M4']=0\n",
    "dd['L4'][dd.NDSI>0.4]=1\n",
    "dd['M4'][dd.NDSI_Snow_Cover>15]=1\n",
    "dd\n",
    "# 算是改过来了啊\n",
    "# frame['panduan'] = frame.city.apply(lambda x: 1 if 'ing' in x else 0)"
   ]
  },
  {
   "cell_type": "code",
   "execution_count": 21,
   "metadata": {},
   "outputs": [
    {
     "name": "stdout",
     "output_type": "stream",
     "text": [
      "OA\n",
      "0.9222319726450208\n",
      "分类正确的样本数量\n",
      "30477\n",
      "F1\n",
      "0.8419822921790457\n",
      "PC\n",
      "0.7917437557816837\n",
      "RC\n",
      "0.8990283613445378\n",
      "F1\n",
      "0.8419822921790457\n",
      "CE\n",
      "0.20825624421831634\n",
      "OE\n",
      "0.10097163865546221\n"
     ]
    }
   ],
   "source": [
    "Lsnow2=dd['L4']  # true\n",
    "Lsnow2\n",
    "\n",
    "Msnow2=dd['M4'] # pre \n",
    "Msnow2\n",
    "\n",
    "y_pred2 = Msnow2\n",
    "y_true2 = Lsnow2\n",
    "\n",
    "print('OA')\n",
    "print(accuracy_score(y_true2, y_pred2))  # 0.5\n",
    "print('分类正确的样本数量')\n",
    "print(accuracy_score(y_true2, y_pred2, normalize=False))  # 2  如果为False，返回分类正确的样本数量\n",
    "\n",
    "print('F1')\n",
    "F1=f1_score(y_true2, y_pred2, average=None)\n",
    "print(F1[1])  # [0.8 0.  0. ]\n",
    "\n",
    "\n",
    "print('PC')\n",
    "PC=precision_score(y_true2, y_pred2, average=None)\n",
    "print(PC[1])  # [0.66666667 0.         0.        ]   后\n",
    "    \n",
    "# print(precision_score(y_true, y_pred, average='macro'))  # 0.2222222222222222\n",
    "# print(precision_score(y_true, y_pred, average='micro'))  # 0.3333333333333333\n",
    "# print(precision_score(y_true, y_pred, average='weighted'))  # 0.2222222222222222\n",
    "\n",
    "\n",
    "\n",
    "print('RC')\n",
    "RC=recall_score(y_true2, y_pred2, average=None)\n",
    "print(RC[1])  # [1. 0. 0.]    后\n",
    "\n",
    "# print(recall_score(y_true, y_pred, average='macro'))  # 0.3333333333333333\n",
    "# print(recall_score(y_true, y_pred, average='micro'))  # 0.3333333333333333\n",
    "# print(recall_score(y_true, y_pred, average='weighted'))  # 0.3333333333333333\n",
    "\n",
    "print('F1')\n",
    "F1=f1_score(y_true2, y_pred2, average=None)\n",
    "print(F1[1])  # [0.8 0.  0. ]\n",
    "\n",
    "# print(f1_score(y_true, y_pred, average='macro'))  # 0.26666666666666666\n",
    "# print(f1_score(y_true, y_pred, average='micro'))  # 0.3333333333333333\n",
    "# print(f1_score(y_true, y_pred, average='weighted'))  # 0.26666666666666666\n",
    "\n",
    "# CE + PC = 1; OE + RC = 1\n",
    "\n",
    "print('CE') #  commission error\n",
    "print(1-PC[1])\n",
    "\n",
    "print('OE') # omission error\n",
    "print(1-RC[1])"
   ]
  },
  {
   "cell_type": "code",
   "execution_count": 22,
   "metadata": {},
   "outputs": [
    {
     "data": {
      "text/plain": [
       "array([[23630,  1801],\n",
       "       [  769,  6847]], dtype=int64)"
      ]
     },
     "execution_count": 22,
     "metadata": {},
     "output_type": "execute_result"
    }
   ],
   "source": [
    "from sklearn.metrics import confusion_matrix\n",
    "\n",
    "confusion_matrix(y_true2, y_pred2)"
   ]
  },
  {
   "cell_type": "code",
   "execution_count": 23,
   "metadata": {},
   "outputs": [
    {
     "data": {
      "text/html": [
       "<div>\n",
       "<style scoped>\n",
       "    .dataframe tbody tr th:only-of-type {\n",
       "        vertical-align: middle;\n",
       "    }\n",
       "\n",
       "    .dataframe tbody tr th {\n",
       "        vertical-align: top;\n",
       "    }\n",
       "\n",
       "    .dataframe thead th {\n",
       "        text-align: right;\n",
       "    }\n",
       "</style>\n",
       "<table border=\"1\" class=\"dataframe\">\n",
       "  <thead>\n",
       "    <tr style=\"text-align: right;\">\n",
       "      <th>M4</th>\n",
       "      <th>0</th>\n",
       "      <th>1</th>\n",
       "    </tr>\n",
       "    <tr>\n",
       "      <th>L4</th>\n",
       "      <th></th>\n",
       "      <th></th>\n",
       "    </tr>\n",
       "  </thead>\n",
       "  <tbody>\n",
       "    <tr>\n",
       "      <th>0</th>\n",
       "      <td>23630</td>\n",
       "      <td>1801</td>\n",
       "    </tr>\n",
       "    <tr>\n",
       "      <th>1</th>\n",
       "      <td>769</td>\n",
       "      <td>6847</td>\n",
       "    </tr>\n",
       "  </tbody>\n",
       "</table>\n",
       "</div>"
      ],
      "text/plain": [
       "M4      0     1\n",
       "L4             \n",
       "0   23630  1801\n",
       "1     769  6847"
      ]
     },
     "execution_count": 23,
     "metadata": {},
     "output_type": "execute_result"
    }
   ],
   "source": [
    "pd.crosstab(y_true2, y_pred2)"
   ]
  },
  {
   "cell_type": "code",
   "execution_count": null,
   "metadata": {},
   "outputs": [],
   "source": []
  },
  {
   "cell_type": "code",
   "execution_count": null,
   "metadata": {},
   "outputs": [],
   "source": []
  },
  {
   "cell_type": "code",
   "execution_count": 13,
   "metadata": {
    "execution": {
     "iopub.execute_input": "2021-09-27T02:19:58.272Z",
     "iopub.status.busy": "2021-09-27T02:19:58.262Z",
     "iopub.status.idle": "2021-09-27T02:19:58.289Z",
     "shell.execute_reply": "2021-09-27T02:19:58.209Z"
    }
   },
   "outputs": [
    {
     "name": "stdout",
     "output_type": "stream",
     "text": [
      "0.2222222222222222\n",
      "0.3333333333333333\n",
      "0.2222222222222222\n",
      "[0.66666667 0.         0.        ]\n"
     ]
    }
   ],
   "source": [
    "#精切率PC\n",
    "from sklearn.metrics import precision_score\n",
    "\n",
    "y_true = [0, 1, 2, 0, 1, 2]\n",
    "y_pred = [0, 2, 1, 0, 0, 1]\n",
    "print(precision_score(y_true, y_pred, average='macro'))  # 0.2222222222222222\n",
    "print(precision_score(y_true, y_pred, average='micro'))  # 0.3333333333333333\n",
    "print(precision_score(y_true, y_pred, average='weighted'))  # 0.2222222222222222\n",
    "print(precision_score(y_true, y_pred, average=None))  # [0.66666667 0.         0.        ]\n"
   ]
  },
  {
   "cell_type": "code",
   "execution_count": 12,
   "metadata": {
    "execution": {
     "iopub.execute_input": "2021-09-27T02:19:58.312Z",
     "iopub.status.busy": "2021-09-27T02:19:58.302Z",
     "iopub.status.idle": "2021-09-27T02:19:58.326Z",
     "shell.execute_reply": "2021-09-27T02:19:58.219Z"
    }
   },
   "outputs": [
    {
     "name": "stdout",
     "output_type": "stream",
     "text": [
      "0.3333333333333333\n",
      "0.3333333333333333\n",
      "0.3333333333333333\n",
      "[1. 0. 0.]\n"
     ]
    }
   ],
   "source": [
    "#召回率RC\n",
    "from sklearn.metrics import recall_score\n",
    "\n",
    "y_true = [0, 1, 2, 0, 1, 2]\n",
    "y_pred = [0, 2, 1, 0, 0, 1]\n",
    "print(recall_score(y_true, y_pred, average='macro'))  # 0.3333333333333333\n",
    "print(recall_score(y_true, y_pred, average='micro'))  # 0.3333333333333333\n",
    "print(recall_score(y_true, y_pred, average='weighted'))  # 0.3333333333333333\n",
    "print(recall_score(y_true, y_pred, average=None))  # [1. 0. 0.]\n"
   ]
  },
  {
   "cell_type": "code",
   "execution_count": 13,
   "metadata": {
    "execution": {
     "iopub.execute_input": "2021-09-27T02:19:58.347Z",
     "iopub.status.busy": "2021-09-27T02:19:58.339Z",
     "iopub.status.idle": "2021-09-27T02:19:58.361Z",
     "shell.execute_reply": "2021-09-27T02:19:58.228Z"
    }
   },
   "outputs": [
    {
     "name": "stdout",
     "output_type": "stream",
     "text": [
      "0.26666666666666666\n",
      "0.3333333333333333\n",
      "0.26666666666666666\n",
      "[0.8 0.  0. ]\n"
     ]
    }
   ],
   "source": [
    "#F1-score\n",
    "from sklearn.metrics import f1_score\n",
    "\n",
    "y_true = [0, 1, 2, 0, 1, 2]\n",
    "y_pred = [0, 2, 1, 0, 0, 1]\n",
    "print(f1_score(y_true, y_pred, average='macro'))  # 0.26666666666666666\n",
    "print(f1_score(y_true, y_pred, average='micro'))  # 0.3333333333333333\n",
    "print(f1_score(y_true, y_pred, average='weighted'))  # 0.26666666666666666\n",
    "print(f1_score(y_true, y_pred, average=None))  # [0.8 0.  0. ]\n"
   ]
  },
  {
   "cell_type": "code",
   "execution_count": null,
   "metadata": {},
   "outputs": [],
   "source": []
  },
  {
   "cell_type": "code",
   "execution_count": null,
   "metadata": {},
   "outputs": [],
   "source": []
  },
  {
   "cell_type": "code",
   "execution_count": null,
   "metadata": {
    "collapsed": true,
    "jupyter": {
     "outputs_hidden": false,
     "source_hidden": false
    },
    "nteract": {
     "transient": {
      "deleting": false
     }
    }
   },
   "outputs": [],
   "source": []
  },
  {
   "cell_type": "code",
   "execution_count": null,
   "metadata": {
    "collapsed": true,
    "jupyter": {
     "outputs_hidden": false,
     "source_hidden": false
    },
    "nteract": {
     "transient": {
      "deleting": false
     }
    }
   },
   "outputs": [],
   "source": []
  },
  {
   "cell_type": "code",
   "execution_count": null,
   "metadata": {
    "collapsed": true,
    "jupyter": {
     "outputs_hidden": false,
     "source_hidden": false
    },
    "nteract": {
     "transient": {
      "deleting": false
     }
    }
   },
   "outputs": [],
   "source": []
  },
  {
   "cell_type": "code",
   "execution_count": null,
   "metadata": {
    "collapsed": true,
    "jupyter": {
     "outputs_hidden": false,
     "source_hidden": false
    },
    "nteract": {
     "transient": {
      "deleting": false
     }
    }
   },
   "outputs": [],
   "source": []
  },
  {
   "cell_type": "code",
   "execution_count": null,
   "metadata": {
    "collapsed": true,
    "jupyter": {
     "outputs_hidden": false,
     "source_hidden": false
    },
    "nteract": {
     "transient": {
      "deleting": false
     }
    }
   },
   "outputs": [],
   "source": []
  },
  {
   "cell_type": "code",
   "execution_count": null,
   "metadata": {
    "collapsed": true,
    "jupyter": {
     "outputs_hidden": false,
     "source_hidden": false
    },
    "nteract": {
     "transient": {
      "deleting": false
     }
    }
   },
   "outputs": [],
   "source": []
  },
  {
   "cell_type": "code",
   "execution_count": null,
   "metadata": {
    "collapsed": true,
    "jupyter": {
     "outputs_hidden": false,
     "source_hidden": false
    },
    "nteract": {
     "transient": {
      "deleting": false
     }
    }
   },
   "outputs": [],
   "source": []
  }
 ],
 "metadata": {
  "kernelspec": {
   "display_name": "Python 3",
   "language": "python",
   "name": "python3"
  },
  "language_info": {
   "codemirror_mode": {
    "name": "ipython",
    "version": 3
   },
   "file_extension": ".py",
   "mimetype": "text/x-python",
   "name": "python",
   "nbconvert_exporter": "python",
   "pygments_lexer": "ipython3",
   "version": "3.7.6"
  },
  "nteract": {
   "version": "0.28.0"
  }
 },
 "nbformat": 4,
 "nbformat_minor": 4
}
