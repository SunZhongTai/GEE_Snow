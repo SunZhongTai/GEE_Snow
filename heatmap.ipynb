{
 "cells": [
  {
   "cell_type": "markdown",
   "metadata": {},
   "source": [
    "NEW STRAT HEATMAP\n"
   ]
  },
  {
   "cell_type": "code",
   "execution_count": 1,
   "metadata": {},
   "outputs": [],
   "source": [
    "import matplotlib.pyplot as plt\n",
    "import seaborn as sns\n",
    "import numpy as np\n",
    "import pandas as pd\n",
    "from matplotlib.ticker import FuncFormatter\n",
    "from matplotlib.ticker import MultipleLocator, FormatStrFormatter\n",
    "from sklearn import linear_model\n",
    "plt.rcParams['font.sans-serif']=['SimHei']#显示中文标签 \n",
    "plt.rcParams['axes.unicode_minus']=False\n",
    "%matplotlib inline"
   ]
  },
  {
   "cell_type": "code",
   "execution_count": 2,
   "metadata": {},
   "outputs": [
    {
     "data": {
      "text/html": [
       "<div>\n",
       "<style scoped>\n",
       "    .dataframe tbody tr th:only-of-type {\n",
       "        vertical-align: middle;\n",
       "    }\n",
       "\n",
       "    .dataframe tbody tr th {\n",
       "        vertical-align: top;\n",
       "    }\n",
       "\n",
       "    .dataframe thead th {\n",
       "        text-align: right;\n",
       "    }\n",
       "</style>\n",
       "<table border=\"1\" class=\"dataframe\">\n",
       "  <thead>\n",
       "    <tr style=\"text-align: right;\">\n",
       "      <th></th>\n",
       "      <th>year</th>\n",
       "      <th>month</th>\n",
       "      <th>data</th>\n",
       "      <th>month2</th>\n",
       "      <th>data2</th>\n",
       "    </tr>\n",
       "  </thead>\n",
       "  <tbody>\n",
       "    <tr>\n",
       "      <th>0</th>\n",
       "      <td>2001</td>\n",
       "      <td>January</td>\n",
       "      <td>4.240319e+07</td>\n",
       "      <td>1</td>\n",
       "      <td>-1</td>\n",
       "    </tr>\n",
       "    <tr>\n",
       "      <th>1</th>\n",
       "      <td>2001</td>\n",
       "      <td>February</td>\n",
       "      <td>5.306025e+07</td>\n",
       "      <td>2</td>\n",
       "      <td>1</td>\n",
       "    </tr>\n",
       "    <tr>\n",
       "      <th>2</th>\n",
       "      <td>2001</td>\n",
       "      <td>March</td>\n",
       "      <td>5.363608e+07</td>\n",
       "      <td>3</td>\n",
       "      <td>1</td>\n",
       "    </tr>\n",
       "    <tr>\n",
       "      <th>3</th>\n",
       "      <td>2001</td>\n",
       "      <td>April</td>\n",
       "      <td>4.857140e+07</td>\n",
       "      <td>4</td>\n",
       "      <td>1</td>\n",
       "    </tr>\n",
       "    <tr>\n",
       "      <th>4</th>\n",
       "      <td>2001</td>\n",
       "      <td>May</td>\n",
       "      <td>3.569333e+07</td>\n",
       "      <td>5</td>\n",
       "      <td>-1</td>\n",
       "    </tr>\n",
       "    <tr>\n",
       "      <th>...</th>\n",
       "      <td>...</td>\n",
       "      <td>...</td>\n",
       "      <td>...</td>\n",
       "      <td>...</td>\n",
       "      <td>...</td>\n",
       "    </tr>\n",
       "    <tr>\n",
       "      <th>223</th>\n",
       "      <td>2019</td>\n",
       "      <td>August</td>\n",
       "      <td>9.892394e+06</td>\n",
       "      <td>8</td>\n",
       "      <td>-2</td>\n",
       "    </tr>\n",
       "    <tr>\n",
       "      <th>224</th>\n",
       "      <td>2019</td>\n",
       "      <td>September</td>\n",
       "      <td>1.685851e+07</td>\n",
       "      <td>9</td>\n",
       "      <td>-2</td>\n",
       "    </tr>\n",
       "    <tr>\n",
       "      <th>225</th>\n",
       "      <td>2019</td>\n",
       "      <td>October</td>\n",
       "      <td>3.448001e+07</td>\n",
       "      <td>10</td>\n",
       "      <td>-1</td>\n",
       "    </tr>\n",
       "    <tr>\n",
       "      <th>226</th>\n",
       "      <td>2019</td>\n",
       "      <td>November</td>\n",
       "      <td>3.800406e+07</td>\n",
       "      <td>11</td>\n",
       "      <td>-1</td>\n",
       "    </tr>\n",
       "    <tr>\n",
       "      <th>227</th>\n",
       "      <td>2019</td>\n",
       "      <td>December</td>\n",
       "      <td>2.998254e+07</td>\n",
       "      <td>12</td>\n",
       "      <td>-1</td>\n",
       "    </tr>\n",
       "  </tbody>\n",
       "</table>\n",
       "<p>228 rows × 5 columns</p>\n",
       "</div>"
      ],
      "text/plain": [
       "     year      month          data  month2  data2\n",
       "0    2001    January  4.240319e+07       1     -1\n",
       "1    2001   February  5.306025e+07       2      1\n",
       "2    2001      March  5.363608e+07       3      1\n",
       "3    2001      April  4.857140e+07       4      1\n",
       "4    2001        May  3.569333e+07       5     -1\n",
       "..    ...        ...           ...     ...    ...\n",
       "223  2019     August  9.892394e+06       8     -2\n",
       "224  2019  September  1.685851e+07       9     -2\n",
       "225  2019    October  3.448001e+07      10     -1\n",
       "226  2019   November  3.800406e+07      11     -1\n",
       "227  2019   December  2.998254e+07      12     -1\n",
       "\n",
       "[228 rows x 5 columns]"
      ]
     },
     "execution_count": 2,
     "metadata": {},
     "output_type": "execute_result"
    }
   ],
   "source": [
    "# 20列 12行的表 读取表\n",
    "data=pd.read_excel('C:/Users/SZT/testheatmap2.xls')  \n",
    "data\n",
    "# 如果是DataFrame，则df的index/column信息会分别对应到heatmap的columns和rows，即df.index是热力图的行标，df.columns是热力图的列标"
   ]
  },
  {
   "cell_type": "markdown",
   "metadata": {},
   "source": [
    "分别计算每个月的斜率"
   ]
  },
  {
   "cell_type": "code",
   "execution_count": 13,
   "metadata": {},
   "outputs": [
    {
     "ename": "SyntaxError",
     "evalue": "invalid syntax (<ipython-input-13-355f86e5f678>, line 1)",
     "output_type": "error",
     "traceback": [
      "\u001b[1;36m  File \u001b[1;32m\"<ipython-input-13-355f86e5f678>\"\u001b[1;36m, line \u001b[1;32m1\u001b[0m\n\u001b[1;33m    d1=data.loc[data['month2']=,:]=3\u001b[0m\n\u001b[1;37m                              ^\u001b[0m\n\u001b[1;31mSyntaxError\u001b[0m\u001b[1;31m:\u001b[0m invalid syntax\n"
     ]
    }
   ],
   "source": [
    "d1=data.loc[data['month2']=,:]=3\n",
    "d1"
   ]
  },
  {
   "cell_type": "code",
   "execution_count": 4,
   "metadata": {},
   "outputs": [
    {
     "name": "stdout",
     "output_type": "stream",
     "text": [
      "[-67092.84792016]\n",
      "187633154.09274253\n"
     ]
    },
    {
     "data": {
      "image/png": "[encoded data removed]",
      "text/plain": [
       "<Figure size 432x288 with 1 Axes>"
      ]
     },
     "metadata": {
      "needs_background": "light"
     },
     "output_type": "display_data"
    }
   ],
   "source": [
    "regr = linear_model.LinearRegression()  \n",
    "# 拟合 \n",
    "regr.fit(d1['year'].values.reshape(-1, 1), d1['data']) # 注意此处.reshape(-1, 1)，因为X是一维的！ \n",
    "# 不难得到直线的斜率、截距 \n",
    "a, b = regr.coef_, regr.intercept_ \n",
    "print(a)\n",
    "print(b)\n",
    "plt.scatter(d1['year'], d1['data'], color='blue')  \n",
    "# 2.拟合的直线 \n",
    "plt.plot(d1['year'], regr.predict(d1['year'].values.reshape(-1,1)), color='red', linewidth=4) \n",
    "plt.show()"
   ]
  },
  {
   "cell_type": "code",
   "execution_count": 5,
   "metadata": {},
   "outputs": [],
   "source": [
    "txt=[-56918.019,-97135.66,-98358.462,-80701.04,-74115.9,-68314.29,-14239.652,1839.44,-64574.6,-23155.96,-39398.94,-103396.87]"
   ]
  },
  {
   "cell_type": "markdown",
   "metadata": {},
   "source": [
    "我知道为什么会有出入了 因为最新的删除了一些数据  因为月份并不是全部都对应的"
   ]
  },
  {
   "cell_type": "code",
   "execution_count": null,
   "metadata": {},
   "outputs": [],
   "source": []
  },
  {
   "cell_type": "code",
   "execution_count": 6,
   "metadata": {},
   "outputs": [],
   "source": [
    "# 这个是为了做那个坐标的 想要显示为1-12月 而不是12月-1月\n",
    "# M=2019\n",
    "# N=1\n",
    "# # data=pd.DataFrame(data,index=['12','11','10','9','8','7','6','5','4','3','2','1'],\n",
    "# #                   columns=['2000','2001','2002','2003','2004','2005','2006','2007','2008','2009','2010','2011','2012','2013','2014','2015','2016','2017','2018','2019'])\n",
    "# data=pd.DataFrame(data,index='index',\n",
    "#                   columns=['2000','2001','2002','2003','2004','2005','2006','2007','2008','2009','2010','2011','2012','2013','2014','2015','2016','2017','2018','2019'])\n",
    "\n",
    "# # data = pd.DataFrame(data, columns=np.arange(2000,M+1), index=np.arange(12,N-1))\n",
    "# data"
   ]
  },
  {
   "cell_type": "markdown",
   "metadata": {},
   "source": [
    "按照季度"
   ]
  },
  {
   "cell_type": "code",
   "execution_count": null,
   "metadata": {},
   "outputs": [],
   "source": []
  },
  {
   "cell_type": "code",
   "execution_count": null,
   "metadata": {},
   "outputs": [],
   "source": []
  },
  {
   "cell_type": "code",
   "execution_count": null,
   "metadata": {},
   "outputs": [],
   "source": []
  },
  {
   "cell_type": "markdown",
   "metadata": {},
   "source": [
    "分别计算每个月的斜率"
   ]
  },
  {
   "cell_type": "code",
   "execution_count": 7,
   "metadata": {},
   "outputs": [],
   "source": [
    "#这个是保存在data2里面的 现在不用了\n",
    "# aa=data['data']\n",
    "# # print(np.mean(aa))\n",
    "# # print('std',np.std(aa))\n",
    "# # print(np.percentile(aa,50))\n",
    "# Q1=np.percentile(aa,25)\n",
    "# Q3=np.percentile(aa,75)\n",
    "\n",
    "\n",
    "# high=Q3+1.5*(Q3-Q1)\n",
    "# Q5=Q3+(Q3-Q1)\n",
    "# Q4=Q3+0.5*(Q3-Q1)\n",
    "\n",
    "# Q0=Q1-0.5*(Q3-Q1)\n",
    "# Q00=Q1-(Q3-Q1)\n",
    "# low=Q1-1.5*(Q3-Q1)\n",
    "\n",
    "# print('high',high)#4\n",
    "# print('Q5',Q5)#\n",
    "# print('Q4',Q4)#\n",
    "# print('Q3',np.percentile(aa,75)) #2\n",
    "# print('Q2',np.percentile(aa,50))#0\n",
    "# print('Q1',np.percentile(aa,25))#-2\n",
    "# print('Q0',Q0)#-3\n",
    "# print('Q00',Q00)#-3\n",
    "# print('low',low)#-4\n",
    "# # print('ll',ll)"
   ]
  },
  {
   "cell_type": "code",
   "execution_count": 8,
   "metadata": {},
   "outputs": [
    {
     "data": {
      "text/html": [
       "<div>\n",
       "<style scoped>\n",
       "    .dataframe tbody tr th:only-of-type {\n",
       "        vertical-align: middle;\n",
       "    }\n",
       "\n",
       "    .dataframe tbody tr th {\n",
       "        vertical-align: top;\n",
       "    }\n",
       "\n",
       "    .dataframe thead th {\n",
       "        text-align: right;\n",
       "    }\n",
       "</style>\n",
       "<table border=\"1\" class=\"dataframe\">\n",
       "  <thead>\n",
       "    <tr style=\"text-align: right;\">\n",
       "      <th></th>\n",
       "      <th>year</th>\n",
       "      <th>month</th>\n",
       "      <th>data</th>\n",
       "      <th>month2</th>\n",
       "      <th>data2</th>\n",
       "      <th>data3</th>\n",
       "    </tr>\n",
       "  </thead>\n",
       "  <tbody>\n",
       "    <tr>\n",
       "      <th>0</th>\n",
       "      <td>2001</td>\n",
       "      <td>January</td>\n",
       "      <td>4.240319e+07</td>\n",
       "      <td>1</td>\n",
       "      <td>-1</td>\n",
       "      <td>4.240319e+07</td>\n",
       "    </tr>\n",
       "    <tr>\n",
       "      <th>1</th>\n",
       "      <td>2001</td>\n",
       "      <td>February</td>\n",
       "      <td>5.306025e+07</td>\n",
       "      <td>2</td>\n",
       "      <td>1</td>\n",
       "      <td>5.306025e+07</td>\n",
       "    </tr>\n",
       "    <tr>\n",
       "      <th>2</th>\n",
       "      <td>2001</td>\n",
       "      <td>March</td>\n",
       "      <td>5.363608e+07</td>\n",
       "      <td>3</td>\n",
       "      <td>1</td>\n",
       "      <td>5.363608e+07</td>\n",
       "    </tr>\n",
       "    <tr>\n",
       "      <th>3</th>\n",
       "      <td>2001</td>\n",
       "      <td>April</td>\n",
       "      <td>4.857140e+07</td>\n",
       "      <td>4</td>\n",
       "      <td>1</td>\n",
       "      <td>4.857140e+07</td>\n",
       "    </tr>\n",
       "    <tr>\n",
       "      <th>4</th>\n",
       "      <td>2001</td>\n",
       "      <td>May</td>\n",
       "      <td>3.569333e+07</td>\n",
       "      <td>5</td>\n",
       "      <td>-1</td>\n",
       "      <td>3.569333e+07</td>\n",
       "    </tr>\n",
       "    <tr>\n",
       "      <th>...</th>\n",
       "      <td>...</td>\n",
       "      <td>...</td>\n",
       "      <td>...</td>\n",
       "      <td>...</td>\n",
       "      <td>...</td>\n",
       "      <td>...</td>\n",
       "    </tr>\n",
       "    <tr>\n",
       "      <th>223</th>\n",
       "      <td>2019</td>\n",
       "      <td>August</td>\n",
       "      <td>9.892394e+06</td>\n",
       "      <td>8</td>\n",
       "      <td>-2</td>\n",
       "      <td>9.892394e+06</td>\n",
       "    </tr>\n",
       "    <tr>\n",
       "      <th>224</th>\n",
       "      <td>2019</td>\n",
       "      <td>September</td>\n",
       "      <td>1.685851e+07</td>\n",
       "      <td>9</td>\n",
       "      <td>-2</td>\n",
       "      <td>1.685851e+07</td>\n",
       "    </tr>\n",
       "    <tr>\n",
       "      <th>225</th>\n",
       "      <td>2019</td>\n",
       "      <td>October</td>\n",
       "      <td>3.448001e+07</td>\n",
       "      <td>10</td>\n",
       "      <td>-1</td>\n",
       "      <td>3.448001e+07</td>\n",
       "    </tr>\n",
       "    <tr>\n",
       "      <th>226</th>\n",
       "      <td>2019</td>\n",
       "      <td>November</td>\n",
       "      <td>3.800406e+07</td>\n",
       "      <td>11</td>\n",
       "      <td>-1</td>\n",
       "      <td>3.800406e+07</td>\n",
       "    </tr>\n",
       "    <tr>\n",
       "      <th>227</th>\n",
       "      <td>2019</td>\n",
       "      <td>December</td>\n",
       "      <td>2.998254e+07</td>\n",
       "      <td>12</td>\n",
       "      <td>-1</td>\n",
       "      <td>2.998254e+07</td>\n",
       "    </tr>\n",
       "  </tbody>\n",
       "</table>\n",
       "<p>228 rows × 6 columns</p>\n",
       "</div>"
      ],
      "text/plain": [
       "     year      month          data  month2  data2         data3\n",
       "0    2001    January  4.240319e+07       1     -1  4.240319e+07\n",
       "1    2001   February  5.306025e+07       2      1  5.306025e+07\n",
       "2    2001      March  5.363608e+07       3      1  5.363608e+07\n",
       "3    2001      April  4.857140e+07       4      1  4.857140e+07\n",
       "4    2001        May  3.569333e+07       5     -1  3.569333e+07\n",
       "..    ...        ...           ...     ...    ...           ...\n",
       "223  2019     August  9.892394e+06       8     -2  9.892394e+06\n",
       "224  2019  September  1.685851e+07       9     -2  1.685851e+07\n",
       "225  2019    October  3.448001e+07      10     -1  3.448001e+07\n",
       "226  2019   November  3.800406e+07      11     -1  3.800406e+07\n",
       "227  2019   December  2.998254e+07      12     -1  2.998254e+07\n",
       "\n",
       "[228 rows x 6 columns]"
      ]
     },
     "execution_count": 8,
     "metadata": {},
     "output_type": "execute_result"
    }
   ],
   "source": [
    "data['data3']=data['data']\n",
    "data"
   ]
  },
  {
   "cell_type": "markdown",
   "metadata": {},
   "source": [
    "看距平就是先计算年平均再计算差值"
   ]
  },
  {
   "cell_type": "code",
   "execution_count": 9,
   "metadata": {},
   "outputs": [
    {
     "data": {
      "text/html": [
       "<div>\n",
       "<style scoped>\n",
       "    .dataframe tbody tr th:only-of-type {\n",
       "        vertical-align: middle;\n",
       "    }\n",
       "\n",
       "    .dataframe tbody tr th {\n",
       "        vertical-align: top;\n",
       "    }\n",
       "\n",
       "    .dataframe thead th {\n",
       "        text-align: right;\n",
       "    }\n",
       "</style>\n",
       "<table border=\"1\" class=\"dataframe\">\n",
       "  <thead>\n",
       "    <tr style=\"text-align: right;\">\n",
       "      <th></th>\n",
       "      <th>year</th>\n",
       "      <th>month</th>\n",
       "      <th>data</th>\n",
       "      <th>month2</th>\n",
       "      <th>data2</th>\n",
       "      <th>data3</th>\n",
       "    </tr>\n",
       "  </thead>\n",
       "  <tbody>\n",
       "    <tr>\n",
       "      <th>0</th>\n",
       "      <td>2001</td>\n",
       "      <td>January</td>\n",
       "      <td>4.240319e+07</td>\n",
       "      <td>1</td>\n",
       "      <td>-1</td>\n",
       "      <td>9.506314e+05</td>\n",
       "    </tr>\n",
       "    <tr>\n",
       "      <th>1</th>\n",
       "      <td>2001</td>\n",
       "      <td>February</td>\n",
       "      <td>5.306025e+07</td>\n",
       "      <td>2</td>\n",
       "      <td>1</td>\n",
       "      <td>1.062445e+06</td>\n",
       "    </tr>\n",
       "    <tr>\n",
       "      <th>2</th>\n",
       "      <td>2001</td>\n",
       "      <td>March</td>\n",
       "      <td>5.363608e+07</td>\n",
       "      <td>3</td>\n",
       "      <td>1</td>\n",
       "      <td>8.595486e+05</td>\n",
       "    </tr>\n",
       "    <tr>\n",
       "      <th>3</th>\n",
       "      <td>2001</td>\n",
       "      <td>April</td>\n",
       "      <td>4.857140e+07</td>\n",
       "      <td>4</td>\n",
       "      <td>1</td>\n",
       "      <td>5.817360e+05</td>\n",
       "    </tr>\n",
       "    <tr>\n",
       "      <th>4</th>\n",
       "      <td>2001</td>\n",
       "      <td>May</td>\n",
       "      <td>3.569333e+07</td>\n",
       "      <td>5</td>\n",
       "      <td>-1</td>\n",
       "      <td>-2.672229e+05</td>\n",
       "    </tr>\n",
       "    <tr>\n",
       "      <th>...</th>\n",
       "      <td>...</td>\n",
       "      <td>...</td>\n",
       "      <td>...</td>\n",
       "      <td>...</td>\n",
       "      <td>...</td>\n",
       "      <td>...</td>\n",
       "    </tr>\n",
       "    <tr>\n",
       "      <th>223</th>\n",
       "      <td>2019</td>\n",
       "      <td>August</td>\n",
       "      <td>9.892394e+06</td>\n",
       "      <td>8</td>\n",
       "      <td>-2</td>\n",
       "      <td>-1.475897e+05</td>\n",
       "    </tr>\n",
       "    <tr>\n",
       "      <th>224</th>\n",
       "      <td>2019</td>\n",
       "      <td>September</td>\n",
       "      <td>1.685851e+07</td>\n",
       "      <td>9</td>\n",
       "      <td>-2</td>\n",
       "      <td>-3.984186e+05</td>\n",
       "    </tr>\n",
       "    <tr>\n",
       "      <th>225</th>\n",
       "      <td>2019</td>\n",
       "      <td>October</td>\n",
       "      <td>3.448001e+07</td>\n",
       "      <td>10</td>\n",
       "      <td>-1</td>\n",
       "      <td>1.128010e+06</td>\n",
       "    </tr>\n",
       "    <tr>\n",
       "      <th>226</th>\n",
       "      <td>2019</td>\n",
       "      <td>November</td>\n",
       "      <td>3.800406e+07</td>\n",
       "      <td>11</td>\n",
       "      <td>-1</td>\n",
       "      <td>7.563735e+05</td>\n",
       "    </tr>\n",
       "    <tr>\n",
       "      <th>227</th>\n",
       "      <td>2019</td>\n",
       "      <td>December</td>\n",
       "      <td>2.998254e+07</td>\n",
       "      <td>12</td>\n",
       "      <td>-1</td>\n",
       "      <td>-6.410462e+05</td>\n",
       "    </tr>\n",
       "  </tbody>\n",
       "</table>\n",
       "<p>228 rows × 6 columns</p>\n",
       "</div>"
      ],
      "text/plain": [
       "     year      month          data  month2  data2         data3\n",
       "0    2001    January  4.240319e+07       1     -1  9.506314e+05\n",
       "1    2001   February  5.306025e+07       2      1  1.062445e+06\n",
       "2    2001      March  5.363608e+07       3      1  8.595486e+05\n",
       "3    2001      April  4.857140e+07       4      1  5.817360e+05\n",
       "4    2001        May  3.569333e+07       5     -1 -2.672229e+05\n",
       "..    ...        ...           ...     ...    ...           ...\n",
       "223  2019     August  9.892394e+06       8     -2 -1.475897e+05\n",
       "224  2019  September  1.685851e+07       9     -2 -3.984186e+05\n",
       "225  2019    October  3.448001e+07      10     -1  1.128010e+06\n",
       "226  2019   November  3.800406e+07      11     -1  7.563735e+05\n",
       "227  2019   December  2.998254e+07      12     -1 -6.410462e+05\n",
       "\n",
       "[228 rows x 6 columns]"
      ]
     },
     "execution_count": 9,
     "metadata": {},
     "output_type": "execute_result"
    }
   ],
   "source": [
    "data.loc[data['month2'] == 1, 'data3']-=data.loc[data['month2'] == 1, 'data'].sum()/19\n",
    "data.loc[data['month2'] == 2, 'data3']-=data.loc[data['month2'] == 2, 'data'].sum()/19\n",
    "data.loc[data['month2'] == 3, 'data3']-=data.loc[data['month2'] == 3, 'data'].sum()/19\n",
    "data.loc[data['month2'] == 4, 'data3']-=data.loc[data['month2'] == 4, 'data'].sum()/19\n",
    "data.loc[data['month2'] == 5, 'data3']-=data.loc[data['month2'] == 5, 'data'].sum()/19\n",
    "data.loc[data['month2'] == 6, 'data3']-=data.loc[data['month2'] == 6, 'data'].sum()/19\n",
    "data.loc[data['month2'] == 7, 'data3']-=data.loc[data['month2'] == 7, 'data'].sum()/19\n",
    "data.loc[data['month2'] == 8, 'data3']-=data.loc[data['month2'] == 8, 'data'].sum()/19\n",
    "data.loc[data['month2'] == 9, 'data3']-=data.loc[data['month2'] == 9, 'data'].sum()/19\n",
    "data.loc[data['month2'] == 10, 'data3']-=data.loc[data['month2'] == 10, 'data'].sum()/19\n",
    "data.loc[data['month2'] == 11, 'data3']-=data.loc[data['month2'] == 11, 'data'].sum()/19\n",
    "data.loc[data['month2'] == 12, 'data3']-=data.loc[data['month2'] == 12, 'data'].sum()/19\n",
    "data"
   ]
  },
  {
   "cell_type": "markdown",
   "metadata": {},
   "source": [
    "data.groupby('month2')['data'].sum()[1]/19"
   ]
  },
  {
   "cell_type": "code",
   "execution_count": 10,
   "metadata": {},
   "outputs": [],
   "source": [
    "datap = data.pivot(\"month2\", \"year\", \"data3\")"
   ]
  },
  {
   "cell_type": "code",
   "execution_count": 11,
   "metadata": {},
   "outputs": [],
   "source": [
    "\n",
    "# fig, ax = plt.subplots(figsize=(12,6))  ###\n",
    "# # fig, ax = plt.subplots(1,2)\n",
    "# # ax = plt.subplot(121)\n",
    "# data2 = {    \n",
    "#     '12': -103.39687,\n",
    "#      '11':-39.39894,\n",
    "#      '10': -23.15596,\n",
    "#      '9': -64.5746,\n",
    "#      '8': -1.83944,\n",
    "#      '7': -14.239652,\n",
    "#      '6': -68.31429,\n",
    "#      '5': -74.1159,\n",
    "#      '4': -80.70104,\n",
    "#      '3': -98.358462,\n",
    "#      '2': -97.13566,\n",
    "#      '1': -56.918019\n",
    "#     }\n",
    "# group_data = list(data2.values())\n",
    "# group_names = list(data2.keys())\n",
    "\n",
    "# # Default Settings\n",
    "# plt.figure()\n",
    "# plt.barh(group_names, group_data)\n",
    "# plt.title('trend of NH snow cover area (10³ km²/yr)')\n",
    "# plt.title('北半球月积雪面积趋势')\n",
    "\n",
    "\n",
    "\n",
    "# #  分界线\n",
    "\n",
    "# plt.rcParams['font.sans-serif']=['SimHei'] # 用来正常显示中文标签\n",
    "# plt.rcParams['axes.unicode_minus']=False # 用来正常显示负号\n",
    "\n",
    "# plt.title('北半球积雪面积月距平')#标题\n",
    "\n",
    "# # cmap='RdBu_r' 颜色主题风格   xticklabels 代表步长  cmap='YlGnBu'    vmax=4,vmin=-4,\n",
    "# sns_plot = sns.heatmap(datap,cmap='RdBu_r',ax=ax, xticklabels=3, yticklabels=1)\n",
    "\n",
    "# # tick_params 中 direction='in'表示刻度线位于内侧，另外还有参数 out,inout\n",
    "# sns_plot.tick_params(labelsize=15, direction='out')\n",
    "\n",
    "# ax.set_yticklabels(ax.get_yticklabels(), rotation=0)\n",
    "# ax.set_xticklabels(ax.get_xticklabels(), rotation=0)\n",
    "\n",
    "# # cax = plt.gcf().axes[-1]\n",
    "# # colorbar 中 top='off', bottom='off', left='off', right='off'表示上下左右侧的刻度线全部不显示\n",
    "# #sns_plot.tick_params(labelsize=20, direction='out', top='off', bottom='off', left='off', right='off')\n",
    "\n",
    "# plt.figure(dpi=120)\n",
    "# plt.show()"
   ]
  },
  {
   "cell_type": "code",
   "execution_count": 12,
   "metadata": {},
   "outputs": [
    {
     "ename": "AttributeError",
     "evalue": "'numpy.ndarray' object has no attribute 'spines'",
     "output_type": "error",
     "traceback": [
      "\u001b[1;31m---------------------------------------------------------------------------\u001b[0m",
      "\u001b[1;31mAttributeError\u001b[0m                            Traceback (most recent call last)",
      "\u001b[1;32m<ipython-input-12-5998743a85b0>\u001b[0m in \u001b[0;36m<module>\u001b[1;34m\u001b[0m\n\u001b[0;32m     35\u001b[0m \u001b[1;33m\u001b[0m\u001b[0m\n\u001b[0;32m     36\u001b[0m \u001b[1;31m# cmap='RdBu_r' 颜色主题风格   xticklabels 代表步长  cmap='YlGnBu'    vmax=4,vmin=-4,\u001b[0m\u001b[1;33m\u001b[0m\u001b[1;33m\u001b[0m\u001b[1;33m\u001b[0m\u001b[0m\n\u001b[1;32m---> 37\u001b[1;33m \u001b[0msns_plot\u001b[0m \u001b[1;33m=\u001b[0m \u001b[0msns\u001b[0m\u001b[1;33m.\u001b[0m\u001b[0mheatmap\u001b[0m\u001b[1;33m(\u001b[0m\u001b[0mdatap\u001b[0m\u001b[1;33m,\u001b[0m\u001b[0mcmap\u001b[0m\u001b[1;33m=\u001b[0m\u001b[1;34m'RdBu_r'\u001b[0m\u001b[1;33m,\u001b[0m\u001b[0max\u001b[0m\u001b[1;33m=\u001b[0m\u001b[0max\u001b[0m\u001b[1;33m,\u001b[0m \u001b[0mxticklabels\u001b[0m\u001b[1;33m=\u001b[0m\u001b[1;36m3\u001b[0m\u001b[1;33m,\u001b[0m \u001b[0myticklabels\u001b[0m\u001b[1;33m=\u001b[0m\u001b[1;36m1\u001b[0m\u001b[1;33m)\u001b[0m\u001b[1;33m\u001b[0m\u001b[1;33m\u001b[0m\u001b[0m\n\u001b[0m\u001b[0;32m     38\u001b[0m \u001b[1;33m\u001b[0m\u001b[0m\n\u001b[0;32m     39\u001b[0m \u001b[1;31m# tick_params 中 direction='in'表示刻度线位于内侧，另外还有参数 out,inout\u001b[0m\u001b[1;33m\u001b[0m\u001b[1;33m\u001b[0m\u001b[1;33m\u001b[0m\u001b[0m\n",
      "\u001b[1;32mD:\\Anaconda\\lib\\site-packages\\seaborn\\matrix.py\u001b[0m in \u001b[0;36mheatmap\u001b[1;34m(data, vmin, vmax, cmap, center, robust, annot, fmt, annot_kws, linewidths, linecolor, cbar, cbar_kws, cbar_ax, square, xticklabels, yticklabels, mask, ax, **kwargs)\u001b[0m\n\u001b[0;32m    521\u001b[0m     \u001b[1;32mif\u001b[0m \u001b[0msquare\u001b[0m\u001b[1;33m:\u001b[0m\u001b[1;33m\u001b[0m\u001b[1;33m\u001b[0m\u001b[0m\n\u001b[0;32m    522\u001b[0m         \u001b[0max\u001b[0m\u001b[1;33m.\u001b[0m\u001b[0mset_aspect\u001b[0m\u001b[1;33m(\u001b[0m\u001b[1;34m\"equal\"\u001b[0m\u001b[1;33m)\u001b[0m\u001b[1;33m\u001b[0m\u001b[1;33m\u001b[0m\u001b[0m\n\u001b[1;32m--> 523\u001b[1;33m     \u001b[0mplotter\u001b[0m\u001b[1;33m.\u001b[0m\u001b[0mplot\u001b[0m\u001b[1;33m(\u001b[0m\u001b[0max\u001b[0m\u001b[1;33m,\u001b[0m \u001b[0mcbar_ax\u001b[0m\u001b[1;33m,\u001b[0m \u001b[0mkwargs\u001b[0m\u001b[1;33m)\u001b[0m\u001b[1;33m\u001b[0m\u001b[1;33m\u001b[0m\u001b[0m\n\u001b[0m\u001b[0;32m    524\u001b[0m     \u001b[1;32mreturn\u001b[0m \u001b[0max\u001b[0m\u001b[1;33m\u001b[0m\u001b[1;33m\u001b[0m\u001b[0m\n\u001b[0;32m    525\u001b[0m \u001b[1;33m\u001b[0m\u001b[0m\n",
      "\u001b[1;32mD:\\Anaconda\\lib\\site-packages\\seaborn\\matrix.py\u001b[0m in \u001b[0;36mplot\u001b[1;34m(self, ax, cax, kws)\u001b[0m\n\u001b[0;32m    271\u001b[0m         \u001b[1;34m\"\"\"Draw the heatmap on the provided Axes.\"\"\"\u001b[0m\u001b[1;33m\u001b[0m\u001b[1;33m\u001b[0m\u001b[0m\n\u001b[0;32m    272\u001b[0m         \u001b[1;31m# Remove all the Axes spines\u001b[0m\u001b[1;33m\u001b[0m\u001b[1;33m\u001b[0m\u001b[1;33m\u001b[0m\u001b[0m\n\u001b[1;32m--> 273\u001b[1;33m         \u001b[0mdespine\u001b[0m\u001b[1;33m(\u001b[0m\u001b[0max\u001b[0m\u001b[1;33m=\u001b[0m\u001b[0max\u001b[0m\u001b[1;33m,\u001b[0m \u001b[0mleft\u001b[0m\u001b[1;33m=\u001b[0m\u001b[1;32mTrue\u001b[0m\u001b[1;33m,\u001b[0m \u001b[0mbottom\u001b[0m\u001b[1;33m=\u001b[0m\u001b[1;32mTrue\u001b[0m\u001b[1;33m)\u001b[0m\u001b[1;33m\u001b[0m\u001b[1;33m\u001b[0m\u001b[0m\n\u001b[0m\u001b[0;32m    274\u001b[0m \u001b[1;33m\u001b[0m\u001b[0m\n\u001b[0;32m    275\u001b[0m         \u001b[1;31m# Draw the heatmap\u001b[0m\u001b[1;33m\u001b[0m\u001b[1;33m\u001b[0m\u001b[1;33m\u001b[0m\u001b[0m\n",
      "\u001b[1;32mD:\\Anaconda\\lib\\site-packages\\seaborn\\utils.py\u001b[0m in \u001b[0;36mdespine\u001b[1;34m(fig, ax, top, right, left, bottom, offset, trim)\u001b[0m\n\u001b[0;32m    222\u001b[0m             \u001b[1;31m# Toggle the spine objects\u001b[0m\u001b[1;33m\u001b[0m\u001b[1;33m\u001b[0m\u001b[1;33m\u001b[0m\u001b[0m\n\u001b[0;32m    223\u001b[0m             \u001b[0mis_visible\u001b[0m \u001b[1;33m=\u001b[0m \u001b[1;32mnot\u001b[0m \u001b[0mlocals\u001b[0m\u001b[1;33m(\u001b[0m\u001b[1;33m)\u001b[0m\u001b[1;33m[\u001b[0m\u001b[0mside\u001b[0m\u001b[1;33m]\u001b[0m\u001b[1;33m\u001b[0m\u001b[1;33m\u001b[0m\u001b[0m\n\u001b[1;32m--> 224\u001b[1;33m             \u001b[0max_i\u001b[0m\u001b[1;33m.\u001b[0m\u001b[0mspines\u001b[0m\u001b[1;33m[\u001b[0m\u001b[0mside\u001b[0m\u001b[1;33m]\u001b[0m\u001b[1;33m.\u001b[0m\u001b[0mset_visible\u001b[0m\u001b[1;33m(\u001b[0m\u001b[0mis_visible\u001b[0m\u001b[1;33m)\u001b[0m\u001b[1;33m\u001b[0m\u001b[1;33m\u001b[0m\u001b[0m\n\u001b[0m\u001b[0;32m    225\u001b[0m             \u001b[1;32mif\u001b[0m \u001b[0moffset\u001b[0m \u001b[1;32mis\u001b[0m \u001b[1;32mnot\u001b[0m \u001b[1;32mNone\u001b[0m \u001b[1;32mand\u001b[0m \u001b[0mis_visible\u001b[0m\u001b[1;33m:\u001b[0m\u001b[1;33m\u001b[0m\u001b[1;33m\u001b[0m\u001b[0m\n\u001b[0;32m    226\u001b[0m                 \u001b[1;32mtry\u001b[0m\u001b[1;33m:\u001b[0m\u001b[1;33m\u001b[0m\u001b[1;33m\u001b[0m\u001b[0m\n",
      "\u001b[1;31mAttributeError\u001b[0m: 'numpy.ndarray' object has no attribute 'spines'"
     ]
    },
    {
     "data": {
      "image/png": "[encoded data removed]",
      "text/plain": [
       "<Figure size 432x288 with 2 Axes>"
      ]
     },
     "metadata": {
      "needs_background": "light"
     },
     "output_type": "display_data"
    },
    {
     "data": {
      "image/png": "[encoded data removed]",
      "text/plain": [
       "<Figure size 432x288 with 1 Axes>"
      ]
     },
     "metadata": {
      "needs_background": "light"
     },
     "output_type": "display_data"
    }
   ],
   "source": [
    "\n",
    "fig, ax = plt.subplots(1,2)  ###\n",
    "# fig, ax = plt.subplots(1,2)\n",
    "# ax = plt.subplot(121)\n",
    "data2 = {    \n",
    "    '12': -103.39687,\n",
    "     '11':-39.39894,\n",
    "     '10': -23.15596,\n",
    "     '9': -64.5746,\n",
    "     '8': -1.83944,\n",
    "     '7': -14.239652,\n",
    "     '6': -68.31429,\n",
    "     '5': -74.1159,\n",
    "     '4': -80.70104,\n",
    "     '3': -98.358462,\n",
    "     '2': -97.13566,\n",
    "     '1': -56.918019\n",
    "    }\n",
    "group_data = list(data2.values())\n",
    "group_names = list(data2.keys())\n",
    "\n",
    "# Default Settings\n",
    "plt.figure()\n",
    "plt.barh(group_names, group_data)\n",
    "plt.title('trend of NH snow cover area (10³ km²/yr)')\n",
    "plt.title('北半球月积雪面积趋势')\n",
    "\n",
    "\n",
    "\n",
    "#  分界线\n",
    "\n",
    "plt.rcParams['font.sans-serif']=['SimHei'] # 用来正常显示中文标签\n",
    "plt.rcParams['axes.unicode_minus']=False # 用来正常显示负号\n",
    "\n",
    "plt.title('北半球积雪面积月距平')#标题\n",
    "\n",
    "# cmap='RdBu_r' 颜色主题风格   xticklabels 代表步长  cmap='YlGnBu'    vmax=4,vmin=-4,\n",
    "sns_plot = sns.heatmap(datap,cmap='RdBu_r',ax=ax, xticklabels=3, yticklabels=1)\n",
    "\n",
    "# tick_params 中 direction='in'表示刻度线位于内侧，另外还有参数 out,inout\n",
    "sns_plot.tick_params(labelsize=15, direction='out')\n",
    "\n",
    "ax.set_yticklabels(ax.get_yticklabels(), rotation=0)\n",
    "ax.set_xticklabels(ax.get_xticklabels(), rotation=0)\n",
    "\n",
    "# cax = plt.gcf().axes[-1]\n",
    "# colorbar 中 top='off', bottom='off', left='off', right='off'表示上下左右侧的刻度线全部不显示\n",
    "#sns_plot.tick_params(labelsize=20, direction='out', top='off', bottom='off', left='off', right='off')\n",
    "\n",
    "plt.figure(dpi=120)\n",
    "plt.show()"
   ]
  },
  {
   "cell_type": "markdown",
   "metadata": {},
   "source": [
    "最新的显示在同一副画中  ok\n",
    "但是还有一点我们计算的好像不是整个北半球的啊\n",
    "其他sca  scf 的计算还不涉及区域 但是这个是要比较精确的啊 啊啊啊 这个不好整? 其实还是每个人的是不同的没事\n",
    "\n"
   ]
  },
  {
   "cell_type": "code",
   "execution_count": null,
   "metadata": {},
   "outputs": [],
   "source": []
  },
  {
   "cell_type": "code",
   "execution_count": null,
   "metadata": {},
   "outputs": [],
   "source": []
  },
  {
   "cell_type": "code",
   "execution_count": null,
   "metadata": {},
   "outputs": [],
   "source": []
  },
  {
   "cell_type": "code",
   "execution_count": null,
   "metadata": {},
   "outputs": [],
   "source": []
  },
  {
   "cell_type": "code",
   "execution_count": null,
   "metadata": {},
   "outputs": [],
   "source": []
  },
  {
   "cell_type": "code",
   "execution_count": null,
   "metadata": {},
   "outputs": [],
   "source": [
    "data['data4']=data['data']\n",
    "data"
   ]
  },
  {
   "cell_type": "code",
   "execution_count": null,
   "metadata": {},
   "outputs": [],
   "source": [
    "data['data4'].sum()/19\n"
   ]
  },
  {
   "cell_type": "code",
   "execution_count": null,
   "metadata": {},
   "outputs": [],
   "source": [
    "y01=data.loc[data['year'] == 2001, 'data4'].sum()-data['data4'].sum()/19\n",
    "y02=data.loc[data['year'] == 2002, 'data4'].sum()-data['data4'].sum()/19\n",
    "y03=data.loc[data['year'] == 2003, 'data4'].sum()-data['data4'].sum()/19\n",
    "y04=data.loc[data['year'] == 2004, 'data4'].sum()-data['data4'].sum()/19\n",
    "y05=data.loc[data['year'] == 2005, 'data4'].sum()-data['data4'].sum()/19\n",
    "y06=data.loc[data['year'] == 2006, 'data4'].sum()-data['data4'].sum()/19\n",
    "y07=data.loc[data['year'] == 2007, 'data4'].sum()-data['data4'].sum()/19\n",
    "y08=data.loc[data['year'] == 2008, 'data4'].sum()-data['data4'].sum()/19\n",
    "y09=data.loc[data['year'] == 2009, 'data4'].sum()-data['data4'].sum()/19\n",
    "y10=data.loc[data['year'] == 2010, 'data4'].sum()-data['data4'].sum()/19\n",
    "y11=data.loc[data['year'] == 2011, 'data4'].sum()-data['data4'].sum()/19\n",
    "y12=data.loc[data['year'] == 2012, 'data4'].sum()-data['data4'].sum()/19\n",
    "y13=data.loc[data['year'] == 2013, 'data4'].sum()-data['data4'].sum()/19\n",
    "y14=data.loc[data['year'] == 2014, 'data4'].sum()-data['data4'].sum()/19\n",
    "y15=data.loc[data['year'] == 2015, 'data4'].sum()-data['data4'].sum()/19\n",
    "y16=data.loc[data['year'] == 2016, 'data4'].sum()-data['data4'].sum()/19\n",
    "y17=data.loc[data['year'] == 2007, 'data4'].sum()-data['data4'].sum()/19\n",
    "y18=data.loc[data['year'] == 2018, 'data4'].sum()-data['data4'].sum()/19\n",
    "y19=data.loc[data['year'] == 2019, 'data4'].sum()-data['data4'].sum()/19\n"
   ]
  },
  {
   "cell_type": "code",
   "execution_count": null,
   "metadata": {},
   "outputs": [],
   "source": [
    "ydata = {    \n",
    "    '2001': y01,\n",
    "    '2002': y02,\n",
    "    '2003': y03,\n",
    "    '2004': y04,\n",
    "    '2005': y05,\n",
    "    '2006': y06,\n",
    "    '2007': y07,\n",
    "    '2008': y08,\n",
    "    '2009': y09,\n",
    "    '2010': y10,\n",
    "    '2011': y11,\n",
    "    '2012': y12,\n",
    "    '2013': y13,\n",
    "    '2014': y14,\n",
    "    '2015': y15,\n",
    "    '2016': y16,\n",
    "    '2017': y17,\n",
    "    '2018': y18,\n",
    "    '2019': y19\n",
    "    }\n",
    "group_data = list(ydata.values())\n",
    "group_names = list(ydata.keys())\n",
    "\n",
    "# Default Settings\n",
    "plt.figure(figsize=(12,8))\n",
    "plt.bar(group_names, group_data)\n",
    "plt.title('北半球积雪面积年距平')"
   ]
  },
  {
   "cell_type": "code",
   "execution_count": null,
   "metadata": {},
   "outputs": [],
   "source": []
  },
  {
   "cell_type": "code",
   "execution_count": null,
   "metadata": {},
   "outputs": [],
   "source": []
  },
  {
   "cell_type": "code",
   "execution_count": null,
   "metadata": {},
   "outputs": [],
   "source": []
  },
  {
   "cell_type": "code",
   "execution_count": null,
   "metadata": {},
   "outputs": [],
   "source": []
  },
  {
   "cell_type": "code",
   "execution_count": null,
   "metadata": {},
   "outputs": [],
   "source": []
  },
  {
   "cell_type": "code",
   "execution_count": null,
   "metadata": {},
   "outputs": [],
   "source": []
  },
  {
   "cell_type": "code",
   "execution_count": null,
   "metadata": {},
   "outputs": [],
   "source": []
  },
  {
   "cell_type": "code",
   "execution_count": null,
   "metadata": {},
   "outputs": [],
   "source": []
  },
  {
   "cell_type": "code",
   "execution_count": null,
   "metadata": {},
   "outputs": [],
   "source": []
  },
  {
   "cell_type": "code",
   "execution_count": null,
   "metadata": {},
   "outputs": [],
   "source": []
  },
  {
   "cell_type": "markdown",
   "metadata": {},
   "source": [
    "分界线 这个往下就不是对的了"
   ]
  },
  {
   "cell_type": "code",
   "execution_count": null,
   "metadata": {},
   "outputs": [],
   "source": [
    "stop"
   ]
  },
  {
   "cell_type": "code",
   "execution_count": null,
   "metadata": {},
   "outputs": [],
   "source": [
    "# # 这个是最基本的例子\n",
    "# # import matplotlib.pyplot as plt\n",
    "# import seaborn as sns\n",
    "# # sns.set_theme()\n",
    "\n",
    "# # Load the example flights dataset and convert to long-form\n",
    "# flights_long = sns.load_dataset(\"flights\")\n",
    "# flights = flights_long.pivot(\"month\", \"year\", \"passengers\")\n",
    "\n",
    "# # Draw a heatmap with the numeric values in each cell\n",
    "# f, ax = plt.subplots(figsize=(12, 6))\n",
    "# sns.heatmap(flights, annot=False, fmt=\"d\", linewidths=.5, ax=ax)\n",
    "# # sns.heatmap(flights, annot=True, fmt=\"d\", linewidths=.5, ax=ax)"
   ]
  },
  {
   "cell_type": "code",
   "execution_count": null,
   "metadata": {},
   "outputs": [],
   "source": []
  },
  {
   "cell_type": "markdown",
   "metadata": {},
   "source": [
    "-----------------------\n"
   ]
  },
  {
   "cell_type": "code",
   "execution_count": null,
   "metadata": {},
   "outputs": [],
   "source": [
    "# import os\n",
    "# import matplotlib.pyplot as plt\n",
    "# import matplotlib\n",
    "# import pandas as pd\n",
    "# import seaborn as sns\n",
    "# from PIL import Image as ImagePIL, ImageFont, ImageDraw#设置保存图片的dpi\n",
    "# df = pd.read_excel('C:/Users/SZT/testheatmap.xls') #相应的文件位置\n",
    "# df"
   ]
  },
  {
   "cell_type": "code",
   "execution_count": null,
   "metadata": {},
   "outputs": [],
   "source": [
    "# #纵坐标标签\n",
    "# list=[]\n",
    "# for i in range(df.shape[0]):\n",
    "#     list.append(df['R2'][i])\n",
    "# row=list\n",
    "# #横坐标标签\n",
    "# df.columns.values[1:]\n",
    "# #dataframe转化成二维矩阵\n",
    "# df_array=df.iloc[:,1:].values\n"
   ]
  },
  {
   "cell_type": "code",
   "execution_count": null,
   "metadata": {},
   "outputs": [],
   "source": [
    "# plt.rcParams['font.sans-serif']=['SimHei'] # 用来正常显示中文标签\n",
    "# plt.rcParams['axes.unicode_minus']=False # 用来正常显示负号\n",
    "# #创建一个画布\n",
    "# fig, ax = plt.subplots(figsize=(11,9))#设置画布大小\n",
    "# im=ax.imshow(df_array,cmap='Greys'，aspect='auto')#cmap='Greys'),设置热力图颜色，一般默认为蓝黄色，aspect='auto'热力块大小随着画布大小自动变化，如果不设置的话为方框。\n",
    "# #create colorbar色条\n",
    "# cbar=ax.figure.colorbar(im, ax=ax)\n",
    "# #colorbar的设置\n",
    "# cbar.ax.set_ylabel('score', rotation=-90, va=\"bottom\",fontsize=18,fontname='Times New Roman')#colorbar标签为‘score’，纵向放置，字体大小为18，字体为新罗马字体\n",
    "\n",
    "# #color色条本身上刻度值大小及字体设置\n",
    "# cbar.ax.tick_params(labelsize=10)\n",
    "# cbarlabels = cbar.ax.get_yticklabels() \n",
    "# [label.set_fontname('Times New Roman') for label in cbarlabels]\n",
    "# #热力图设置\n",
    "# ax.set_xticks(np.arange(len(df.columns.values[1:])))\n",
    "# ax.set_yticks(np.arange(len(row)))\n",
    "# #用各自的列表项来标记他们\n",
    "# ax.set_xticklabels(df.columns.values[1:])\n",
    "# ax.set_yticklabels(row)\n",
    "# #关闭网格并用白色加宽网格\n",
    "# for edge, spine in ax.spines.items():\n",
    "#         spine.set_visible(False)\n",
    "\n",
    "# ax.set_xticks(np.arange(column+1)-.5, minor=True)\n",
    "# ax.set_yticks(np.arange(len(row)+1)-.5, minor=True)\n",
    "# ax.grid(which=\"minor\", color=\"w\", linestyle='-', linewidth=3)\n",
    "# ax.tick_params(which=\"minor\", bottom=False, left=False)\n",
    "# #添加每个热力块的具体数值,保留两位小数\n",
    "# for i in range(df.shape[0]):\n",
    "#     for j in range(1,df.shape[1]):\n",
    "#         text = ax.text(j-1,i,df.iloc[i,j].round(2),ha=\"center\", va=\"center\", color=\"w\",fontsize=12,fontname='Times New Roman')\n",
    "# #设置图例并且设置图例的字体及大小\n",
    "\n",
    "# #设置坐标刻度值的大小以及刻度值的字体\n",
    "# plt.tick_params(labelsize=15)\n",
    "# labels = ax.get_xticklabels() + ax.get_yticklabels()\n",
    "# [label.set_fontname('Times New Roman') for label in labels]\n",
    " \n",
    "# #设置横纵坐标的名称及热力图名称以及对应字体格式\n",
    "# font1 = {'family' : 'Times New Roman',\n",
    "# 'weight' : 'normal',\n",
    "# 'size'   : 20,\n",
    "# }\n",
    "# #横纵轴的名称\n",
    "# plt.xlabel('round',font1)\n",
    "# plt.ylabel('value',font1)\n",
    "# #热力图名称\n",
    "# ax.set_title('DX model score',font1)\n",
    "# #图的输出\n",
    "# #将文件保存至文件中并且画出图,dpi设置高分辨率输出\n",
    "# plt.savefig('figure.eps',dpi=400)\n",
    "# fig.tight_layout()\n",
    "# plt.show()\n"
   ]
  },
  {
   "cell_type": "code",
   "execution_count": null,
   "metadata": {},
   "outputs": [],
   "source": [
    "# import seaborn as sns\n",
    "# import pandas as pd\n",
    "# import matplotlib.pyplot as plt\n",
    "# df = pd.read_excel(r\"E:\\通量数据\\数据分析\\分参数模型分析\\全部点分模型R2汇总.xlsx\",sheet_name='当雄').set_index('R2')\n",
    "\n",
    "# fig, ax = plt.subplots(figsize = (9,9))\n",
    "\n",
    "# sns.heatmap(df,annot=True, vmax=1,vmin = 0.8, xticklabels= True, yticklabels= True, square=False, cmap=None)\n",
    "\n",
    "# plt.show()\n"
   ]
  },
  {
   "cell_type": "code",
   "execution_count": null,
   "metadata": {},
   "outputs": [],
   "source": []
  },
  {
   "cell_type": "code",
   "execution_count": null,
   "metadata": {},
   "outputs": [],
   "source": [
    "# #绘制混淆矩阵\n",
    "\n",
    "# df_cm=pd.DataFrame(data,index=['消极','中性','积极'],\n",
    "#                   columns=['消极','中性','积极'])\n",
    " \n",
    "# plt.figure(figsize=(10,8))\n",
    "# f, ax= plt.subplots(figsize = (10, 8))\n",
    " \n",
    "# h=sns.heatmap(df_cm,annot=True,cmap=\"binary\",fmt='.20g',ax=ax,linewidths=2,\n",
    "#             annot_kws={'size':30},cbar=False)\n",
    " \n",
    "# #h=sns.heatmap(data, annot=True,fmt='d',linewidths=0.5,cbar=False) #设置不使用其默认自带的colorbar\n",
    "# cb=h.figure.colorbar(h.collections[0]) #显示colorbar\n",
    "# cb.ax.tick_params(labelsize=24) #设置colorbar刻度字体大小。\n",
    " \n",
    "# ax.tick_params(labelsize=24)\n",
    "# ax.set_yticklabels(ax.get_yticklabels(), rotation=0)\n",
    " \n",
    "# plt.ylabel('实际结果',fontsize=24)\n",
    "# plt.xlabel('预测结果',fontsize=24)\n",
    "# plt.show()"
   ]
  },
  {
   "cell_type": "code",
   "execution_count": null,
   "metadata": {},
   "outputs": [],
   "source": []
  },
  {
   "cell_type": "code",
   "execution_count": null,
   "metadata": {},
   "outputs": [],
   "source": []
  },
  {
   "cell_type": "code",
   "execution_count": null,
   "metadata": {},
   "outputs": [],
   "source": []
  }
 ],
 "metadata": {
  "kernelspec": {
   "display_name": "Python 3",
   "language": "python",
   "name": "python3"
  },
  "language_info": {
   "codemirror_mode": {
    "name": "ipython",
    "version": 3
   },
   "file_extension": ".py",
   "mimetype": "text/x-python",
   "name": "python",
   "nbconvert_exporter": "python",
   "pygments_lexer": "ipython3",
   "version": "3.7.6"
  }
 },
 "nbformat": 4,
 "nbformat_minor": 4
}
